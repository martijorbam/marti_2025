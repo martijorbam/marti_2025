{
 "cells": [
  {
   "cell_type": "markdown",
   "id": "1fbfdc37",
   "metadata": {},
   "source": [
    "---\n",
    "layout: post\n",
    "toc: true\n",
    "categories: [Big Idea3]\n",
    "title: 3.3 Simulation/Games and Random Algorithms\n",
    "description: Big Idea 3.3\n",
    "type: ccc\n",
    "comments: true\n",
    "---"
   ]
  },
  {
   "cell_type": "markdown",
   "id": "22afcb5c",
   "metadata": {},
   "source": [
    "## Popcorn Hack 1: Real-World Applications\n",
    "\n",
    "**Question:** Name two real-world applications where random number generation is essential and briefly explain why.\n",
    "\n",
    "**Answer:**\n",
    "1. **Cybersecurity** – Random number generators are used to create encryption keys which are essential to secure online communication.\n",
    "2. **Game Development** – Random numbers are used for things like loot drops, enemy behavior, or card shuffling to ensure unpredictability and fairness.\n",
    "\n",
    "---\n",
    "\n",
    "## 🎱 Popcorn Hack 2: Magic 8-Ball\n"
   ]
  },
  {
   "cell_type": "code",
   "execution_count": 2,
   "id": "4f9e552f",
   "metadata": {},
   "outputs": [
    {
     "name": "stdout",
     "output_type": "stream",
     "text": [
      "Magic 8-Ball says: Yes\n",
      "Magic 8-Ball says: Yes\n",
      "Magic 8-Ball says: Ask again later\n",
      "Magic 8-Ball says: Ask again later\n",
      "Magic 8-Ball says: Yes\n",
      "Magic 8-Ball says: No\n",
      "Magic 8-Ball says: Ask again later\n",
      "Magic 8-Ball says: Yes\n",
      "Magic 8-Ball says: No\n",
      "Magic 8-Ball says: No\n"
     ]
    }
   ],
   "source": [
    "import random\n",
    "\n",
    "def magic_8_ball():\n",
    "    roll = random.randint(1, 4)\n",
    "    if roll <= 2:\n",
    "        return \"Yes\"\n",
    "    elif roll == 3:\n",
    "        return \"No\"\n",
    "    else:\n",
    "        return \"Ask again later\"\n",
    "\n",
    "# Test your function\n",
    "for i in range(10):\n",
    "    print(f\"Magic 8-Ball says: {magic_8_ball()}\")"
   ]
  },
  {
   "cell_type": "markdown",
   "id": "8047df9e",
   "metadata": {},
   "source": [
    "## Popcorn Hack 3"
   ]
  },
  {
   "cell_type": "code",
   "execution_count": 5,
   "id": "f13cc0e8",
   "metadata": {},
   "outputs": [
    {
     "name": "stdout",
     "output_type": "stream",
     "text": [
      "Time 0: Green\n",
      "Time 1: Green\n",
      "Time 2: Green\n",
      "Time 3: Green\n",
      "Time 4: Green\n",
      "Time 5: Yellow\n",
      "Time 6: Yellow\n",
      "Time 7: Red\n",
      "Time 8: Red\n",
      "Time 9: Red\n",
      "Time 10: Red\n",
      "Time 11: Green\n",
      "Time 12: Green\n",
      "Time 13: Green\n",
      "Time 14: Green\n",
      "Time 15: Green\n",
      "Time 16: Yellow\n",
      "Time 17: Yellow\n",
      "Time 18: Red\n",
      "Time 19: Red\n",
      "Time 20: Red\n"
     ]
    }
   ],
   "source": [
    "states = [\"Green\", \"Yellow\", \"Red\"]\n",
    "durations = {\"Green\": 5, \"Yellow\": 2, \"Red\": 4}\n",
    "timeline = []\n",
    "\n",
    "# Simulate 20 time steps\n",
    "time = 0\n",
    "state = \"Green\"\n",
    "counter = 0\n",
    "\n",
    "while time <= 20:\n",
    "    timeline.append((time, state))\n",
    "    counter += 1\n",
    "    if counter == durations[state]:\n",
    "        counter = 0\n",
    "        current_index = states.index(state)\n",
    "        state = states[(current_index + 1) % len(states)]\n",
    "    time += 1\n",
    "\n",
    "for t, s in timeline:\n",
    "    print(f\"Time {t}: {s}\")\n"
   ]
  },
  {
   "cell_type": "markdown",
   "id": "3a2b55c5",
   "metadata": {},
   "source": [
    "This is a simulation because it models the behavior of a traffic light system over time using predefined rules.\n",
    "Its real-world impact includes helping city planners design efficient traffic flow systems and improving road safety."
   ]
  },
  {
   "cell_type": "markdown",
   "id": "bab31c64",
   "metadata": {},
   "source": [
    "## HW Hack 1"
   ]
  },
  {
   "cell_type": "code",
   "execution_count": 2,
   "id": "ad19821c",
   "metadata": {},
   "outputs": [
    {
     "name": "stdout",
     "output_type": "stream",
     "text": [
      "Welcome to the Dice Game!\n",
      "Player rolled: 2 + 2 = 4\n",
      "Point is set to 4\n",
      "Rolling again: 4 + 1 = 5\n",
      "Rolling again: 1 + 6 = 7\n",
      "You lose!\n",
      "Player rolled: 5 + 2 = 7\n",
      "You win!\n",
      "Final Stats - Wins: 1, Losses: 1\n"
     ]
    }
   ],
   "source": [
    "import random\n",
    "\n",
    "def roll_dice():\n",
    "    die1 = random.randint(1, 6)\n",
    "    die2 = random.randint(1, 6)\n",
    "    total = die1 + die2\n",
    "    return die1, die2, total\n",
    "\n",
    "def play_dice_game():\n",
    "    die1, die2, total = roll_dice()\n",
    "    print(f\"Player rolled: {die1} + {die2} = {total}\")\n",
    "    \n",
    "    if total in [7, 11]:\n",
    "        print(\"You win!\")\n",
    "        return True\n",
    "    elif total in [2, 3, 12]:\n",
    "        print(\"You lose!\")\n",
    "        return False\n",
    "    else:\n",
    "        point = total\n",
    "        print(f\"Point is set to {point}\")\n",
    "        while True:\n",
    "            die1, die2, total = roll_dice()\n",
    "            print(f\"Rolling again: {die1} + {die2} = {total}\")\n",
    "            if total == point:\n",
    "                print(\"You win!\")\n",
    "                return True\n",
    "            elif total == 7:\n",
    "                print(\"You lose!\")\n",
    "                return False\n",
    "\n",
    "def main():\n",
    "    wins = 0\n",
    "    losses = 0\n",
    "    \n",
    "    while True:\n",
    "        play = input(\"Do you want to play a round? (yes/no): \").strip().lower()\n",
    "        if play == \"yes\":\n",
    "            if play_dice_game():\n",
    "                wins += 1\n",
    "            else:\n",
    "                losses += 1\n",
    "        elif play == \"no\":\n",
    "            print(f\"Final Stats - Wins: {wins}, Losses: {losses}\")\n",
    "            break\n",
    "        else:\n",
    "            print(\"Please enter 'yes' or 'no'.\")\n",
    "\n",
    "if __name__ == \"__main__\":\n",
    "    print(\"Welcome to the Dice Game!\")\n",
    "    main()\n"
   ]
  }
 ],
 "metadata": {
  "kernelspec": {
   "display_name": "venv",
   "language": "python",
   "name": "python3"
  },
  "language_info": {
   "codemirror_mode": {
    "name": "ipython",
    "version": 3
   },
   "file_extension": ".py",
   "mimetype": "text/x-python",
   "name": "python",
   "nbconvert_exporter": "python",
   "pygments_lexer": "ipython3",
   "version": "3.12.3"
  }
 },
 "nbformat": 4,
 "nbformat_minor": 5
}
