{
 "cells": [
  {
   "cell_type": "raw",
   "id": "491698b4",
   "metadata": {},
   "source": [
    "---\n",
    "layout: post\n",
    "toc: true\n",
    "categories: [Big Idea3]\n",
    "title: 3.4 Big O and Algorithm Efficiency\n",
    "description: Big Idea 3.4\n",
    "type: ccc\n",
    "comments: true\n",
    "---"
   ]
  },
  {
   "cell_type": "markdown",
   "id": "dbcefce9",
   "metadata": {},
   "source": [
    "# Big O and Algorithmic Efficiency – Notes\n",
    "\n",
    "## Why Efficiency Matters\n",
    "- Faster applications = better user experience.\n",
    "- Efficient algorithms conserve memory, CPU, and power.\n",
    "- Essential for scalability and high-performance systems.\n",
    "\n",
    "## Big O Basics\n",
    "- **O(1)** – Constant time (e.g., dictionary access).\n",
    "- **O(log n)** – Logarithmic time (e.g., binary search).\n",
    "- **O(n)** – Linear time (e.g., loop through list).\n",
    "- **O(n log n)** – Linearithmic time (e.g., merge sort).\n",
    "- **O(n²)** – Quadratic time (e.g., bubble sort).\n",
    "\n",
    "## Popcorn Hack – Even/Odd Check\n",
    "Best methods (O(1)):\n",
    "- `n % 2 == 0`\n",
    "- Bitwise: `n & 1 == 0` (not mentioned but also efficient)\n",
    "\n",
    "## String Reversal\n",
    "- `s[::-1]`: Fast, more memory (new string copy)\n",
    "- Manual insert method: Less memory-efficient, slower\n",
    "\n",
    "## Searching\n",
    "- **Linear Search**: O(n), works on unsorted\n",
    "- **Binary Search**: O(log n), requires sorted list\n",
    "\n",
    "## Sorting\n",
    "- **Bubble Sort**: O(n²), inefficient for large lists\n",
    "- **Merge Sort**: O(n log n), efficient, uses extra memory\n",
    "\n",
    "## Trade-Offs\n",
    "- Faster runtime often requires more memory\n",
    "- Energy matters for mobile & embedded systems\n",
    "\n",
    "## Real-World Applications\n",
    "- Database indexing, machine learning, network routing\n",
    "\n",
    "## Diagrams\n",
    "- Algorithm Efficiency Flow: Input → Time/Space Complexity\n",
    "- Optimization Trade-off: Faster Time ↔ More Resources\n"
   ]
  },
  {
   "cell_type": "markdown",
   "id": "1fe02b86",
   "metadata": {},
   "source": [
    "# ✅ Completed Hacks\n",
    "\n",
    "## Popcorn Hack – Even/Odd Check\n",
    "**Best strategies:**\n",
    "1. Use `n % 2 == 0` → Constant time check\n",
    "2. Bitwise alternative: `n & 1 == 0` → Also O(1), fast and efficient\n",
    "\n",
    "Explanation:\n",
    "- Both avoid loops or conversions.\n",
    "- Fastest way to determine even/odd since they’re hardware-level operations.\n",
    "\n",
    "---\n",
    "\n",
    "## Homework Hack #1: Sorting Showdown\n"
   ]
  },
  {
   "cell_type": "code",
   "execution_count": 1,
   "id": "b147654c",
   "metadata": {},
   "outputs": [
    {
     "name": "stdout",
     "output_type": "stream",
     "text": [
      "Bubble Sort Time: 0.0008630752563476562\n",
      "Merge Sort Time: 0.0005192756652832031\n"
     ]
    }
   ],
   "source": [
    "import random, time\n",
    "\n",
    "def bubble_sort(arr):\n",
    "    n = len(arr)\n",
    "    for i in range(n):\n",
    "        for j in range(0, n - i - 1):\n",
    "            if arr[j] > arr[j + 1]:\n",
    "                arr[j], arr[j + 1] = arr[j + 1], arr[j]\n",
    "\n",
    "def merge_sort(arr):\n",
    "    if len(arr) > 1:\n",
    "        mid = len(arr) // 2\n",
    "        left = arr[:mid]\n",
    "        right = arr[mid:]\n",
    "        merge_sort(left)\n",
    "        merge_sort(right)\n",
    "        i = j = k = 0\n",
    "        while i < len(left) and j < len(right):\n",
    "            if left[i] < right[j]:\n",
    "                arr[k] = left[i]\n",
    "                i += 1\n",
    "            else:\n",
    "                arr[k] = right[j]\n",
    "                j += 1\n",
    "            k += 1\n",
    "        while i < len(left):\n",
    "            arr[k] = left[i]\n",
    "            i += 1\n",
    "            k += 1\n",
    "        while j < len(right):\n",
    "            arr[k] = right[j]\n",
    "            j += 1\n",
    "            k += 1\n",
    "\n",
    "lst = [random.randint(1, 1000) for _ in range(100)]\n",
    "\n",
    "a = lst.copy()\n",
    "start = time.time()\n",
    "bubble_sort(a)\n",
    "print(\"Bubble Sort Time:\", time.time() - start)\n",
    "\n",
    "b = lst.copy()\n",
    "start = time.time()\n",
    "merge_sort(b)\n",
    "print(\"Merge Sort Time:\", time.time() - start)"
   ]
  },
  {
   "cell_type": "markdown",
   "id": "602b2fa0",
   "metadata": {},
   "source": [
    "Conclusion:\n",
    "\n",
    "Merge Sort is consistently faster than Bubble Sort. Bubble Sort does unnecessary comparisons even in nearly sorted arrays."
   ]
  },
  {
   "cell_type": "markdown",
   "id": "dad02556",
   "metadata": {},
   "source": [
    "\n",
    "## Homework Hack #2:"
   ]
  },
  {
   "cell_type": "code",
   "execution_count": 2,
   "id": "b08ff70d",
   "metadata": {},
   "outputs": [
    {
     "name": "stdout",
     "output_type": "stream",
     "text": [
      "Linear Search Comparisons: 26137\n",
      "Binary Search Comparisons: 15\n"
     ]
    }
   ],
   "source": [
    "def linear_search(arr, target):\n",
    "    count = 0\n",
    "    for i in range(len(arr)):\n",
    "        count += 1\n",
    "        if arr[i] == target:\n",
    "            return count\n",
    "    return -1\n",
    "\n",
    "def binary_search(arr, target):\n",
    "    left, right = 0, len(arr) - 1\n",
    "    count = 0\n",
    "    while left <= right:\n",
    "        count += 1\n",
    "        mid = (left + right) // 2\n",
    "        if arr[mid] == target:\n",
    "            return count\n",
    "        elif arr[mid] < target:\n",
    "            left = mid + 1\n",
    "        else:\n",
    "            right = mid - 1\n",
    "    return -1\n",
    "\n",
    "arr = list(range(1, 100001))\n",
    "target = random.choice(arr)\n",
    "\n",
    "print(\"Linear Search Comparisons:\", linear_search(arr, target))\n",
    "print(\"Binary Search Comparisons:\", binary_search(arr, target))\n"
   ]
  },
  {
   "cell_type": "markdown",
   "id": "bfc7c00f",
   "metadata": {},
   "source": [
    "\n",
    "Conclusion:\n",
    "\n",
    "Binary Search is much faster due to halving the search space. Binary Search fails on unsorted lists — sorting is a prerequisite."
   ]
  }
 ],
 "metadata": {
  "kernelspec": {
   "display_name": "venv",
   "language": "python",
   "name": "python3"
  },
  "language_info": {
   "codemirror_mode": {
    "name": "ipython",
    "version": 3
   },
   "file_extension": ".py",
   "mimetype": "text/x-python",
   "name": "python",
   "nbconvert_exporter": "python",
   "pygments_lexer": "ipython3",
   "version": "3.12.3"
  }
 },
 "nbformat": 4,
 "nbformat_minor": 5
}
