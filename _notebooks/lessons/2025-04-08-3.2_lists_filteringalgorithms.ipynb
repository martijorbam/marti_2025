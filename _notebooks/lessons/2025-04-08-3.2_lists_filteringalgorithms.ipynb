{
 "cells": [
  {
   "cell_type": "markdown",
   "metadata": {},
   "source": [
    "---\n",
    "layout: post\n",
    "toc: true\n",
    "categories: [Big Idea3]\n",
    "title: 3.2 Lists and Filtering Algorithms\n",
    "description: Big Idea 3.2\n",
    "type: ccc\n",
    "comments: true\n",
    "---"
   ]
  },
  {
   "cell_type": "markdown",
   "metadata": {},
   "source": [
    "## Popcorn Hack #1\n",
    "#### What are some possible benefits of using lists? What are some real world examples of lists being used in code ?\n",
    "Easier to organize data.\n",
    "- Online Shopping Cart – Items get added to a list; without lists, you'd only be able to buy one item at a time.\n",
    "- Email Inbox – List of emails; no list = only one email viewable at a time.\n",
    "- Music Playlist – Each playlist is just a list of songs!\n",
    "\n",
    "## Popcorn Hack #2\n",
    "#### What does this code output?\n",
    "```python\n",
    "items = [\"pen\", \"pencil\", \"marker\", \"eraser\"]\n",
    "items.remove(\"pencil\")\n",
    "items.append(\"sharpener\")\n",
    "print(items[2])\n",
    "```\n",
    "Answer: Eraser\n",
    "\n",
    "## Popcorn Hack #3\n",
    "#### What are some real world examples of filtering algorithms?\n",
    "- Searching names in contact apps\n",
    "- E-commerce filters (price range, category, rating)\n",
    "- Gmail spam filters\n",
    "- Spotify search and recommendations\n",
    "\n",
    "# ✅ 1) Create a List + 3 Procedures\n",
    "```python\n",
    "foods = [\"pizza\", \"burger\", \"taco\", \"salad\", \"pasta\"]\n",
    "foods.append(\"sushi\")        # Adds \"sushi\" to end\n",
    "foods.remove(\"burger\")       # Removes \"burger\"\n",
    "foods.insert(2, \"fries\")     # Adds \"fries\" at index 2\n",
    "print(foods)\n",
    "```\n",
    "# ✅ 2) List Traversal Steps\n",
    "```python\n",
    "for food in foods:\n",
    "    print(\"Yum!\", food)\n",
    "```"
   ]
  },
  {
   "cell_type": "markdown",
   "metadata": {},
   "source": [
    "# 3) Filtering Algorithm (Use pandas - database filtering)"
   ]
  },
  {
   "cell_type": "code",
   "execution_count": null,
   "metadata": {},
   "outputs": [
    {
     "name": "stdout",
     "output_type": "stream",
     "text": [
      "       Name  Score\n",
      "0  Keerthan     95\n",
      "1    Zafeer     88\n",
      "3     Aarav     91\n"
     ]
    }
   ],
   "source": [
    "\n",
    "\n",
    "import pandas as pd\n",
    "\n",
    "# ✅ Step 1: Start with a list of data (our \"database\")\n",
    "data = {\n",
    "    \"Name\": [\"Keerthan\", \"Zafeer\", \"Hithin\", \"Aarav\", \"Nikhil\"],\n",
    "    \"Score\": [95, 88, 76, 91, 84]\n",
    "}\n",
    "\n",
    "# ✅ Step 2: Convert the list into a pandas DataFrame\n",
    "df = pd.DataFrame(data)\n",
    "\n",
    "# ✅ Step 3: Apply a filtering condition (Score > 85)\n",
    "high_scores = df[df[\"Score\"] > 85]\n",
    "\n",
    "# ✅ Step 4: Output the filtered DataFrame\n",
    "print(high_scores)\n"
   ]
  },
  {
   "cell_type": "markdown",
   "metadata": {},
   "source": [
    "# Final Reflection\n",
    "Filtering algorithms and lists are used in real life to organize and extract meaningful data, such as filtering search results on Google or products on Amazon. They work by looping through a list, applying a condition, and creating a new list with only the matching items."
   ]
  }
 ],
 "metadata": {
  "kernelspec": {
   "display_name": "venv",
   "language": "python",
   "name": "python3"
  },
  "language_info": {
   "codemirror_mode": {
    "name": "ipython",
    "version": 3
   },
   "file_extension": ".py",
   "mimetype": "text/x-python",
   "name": "python",
   "nbconvert_exporter": "python",
   "pygments_lexer": "ipython3",
   "version": "3.12.3"
  }
 },
 "nbformat": 4,
 "nbformat_minor": 2
}
