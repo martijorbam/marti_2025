{
 "cells": [
  {
   "cell_type": "raw",
   "metadata": {
    "vscode": {
     "languageId": "raw"
    }
   },
   "source": [
    "---\n",
    "layout: post\n",
    "toc: true\n",
    "categories: [PilotCity]\n",
    "title: Scope\n",
    "description: To review the employer project scope, mission, specifications and initial resources\n",
    "type: ccc\n",
    "comments: true\n",
    "---"
   ]
  },
  {
   "cell_type": "markdown",
   "metadata": {},
   "source": [
    "## Project Analysis & Summary\n",
    "\n",
    "## Project Overview\n",
    "The goal of this project is to develop an engaging, interactive online game to educate Scripps Research's social media followers about their groundbreaking biotech innovations. The primary objective is to increase follower engagement by 30% within three months while enhancing public awareness and appreciation of Scripps Research’s contributions to science.\n",
    "\n",
    "## Urgency\n",
    "This project has a **high urgency level** as it must achieve its engagement goals within a short timeframe of three months. Effective execution is critical for ensuring success within the given period.\n",
    "\n",
    "## Target Users\n",
    "- Social media followers of Scripps Research\n",
    "- Individuals interested in biotech innovations\n",
    "- The general public looking to learn more about biomedical advancements in an engaging way\n",
    "\n",
    "## Opportunities\n",
    "- Increased follower engagement on social media\n",
    "- Enhanced public awareness of Scripps Research’s contributions\n",
    "- Creation of an educational and entertaining experience\n",
    "- Potential for future iterations or expansions of the game concept\n",
    "\n",
    "## Potential Deliverables\n",
    "- **Virtual Lab Simulation**: An interactive experience where users can simulate biotech experiments and discoveries.\n",
    "- **Biotech Trivia Challenge**: A quiz-based game testing knowledge about Scripps Research’s innovations.\n",
    "- **Innovation Discovery Quest**: A gamified journey through scientific breakthroughs.\n",
    "\n",
    "## Known Challenges\n",
    "- Ensuring the game is both **educational and engaging**\n",
    "- Maintaining **accuracy** in representing Scripps Research’s biotech innovations\n",
    "- **Effectively promoting** the game to the right audience\n",
    "- Managing **time and resource constraints** while developing multiple potential deliverables\n",
    "\n",
    "## Value of Student Perspective\n",
    "Students bring fresh and innovative ideas to game development, ensuring relevance and engagement. Their creativity can help **surpass the engagement goal** and make the game more appealing to a younger demographic.\n",
    "\n",
    "## About Scripps Research\n",
    "Scripps Research is a world leader in biomedical discoveries aimed at improving human health. As the **largest independent non-profit biomedical research facility**, it is ranked **#1 for innovation** by the Nature Index, expanding the frontiers of science and education to benefit millions globally.\n"
   ]
  }
 ],
 "metadata": {
  "language_info": {
   "name": "python"
  }
 },
 "nbformat": 4,
 "nbformat_minor": 2
}
