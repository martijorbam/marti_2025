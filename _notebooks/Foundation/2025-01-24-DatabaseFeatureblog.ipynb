{
 "cells": [
  {
   "cell_type": "raw",
   "metadata": {
    "vscode": {
     "languageId": "raw"
    }
   },
   "source": [
    "---\n",
    "layout: post\n",
    "title: Personal Feature Blog\n",
    "description:  Database Feature\n",
    "type: Blog \n",
    "comments: true\n",
    "---"
   ]
  },
  {
   "cell_type": "markdown",
   "metadata": {},
   "source": [
    "## Quote Manager \n",
    "The Quote Manager feature allows users to store, edit, and delete quotes in a database. It provides a user-friendly interface with a dynamic table displaying quotes, authors, and dates. Every row in the datatable includes a quote with its respective author and date.\n",
    "The backend API handles all interactions using GET, POST, PUT, and DELETE methods, ensuring seamless data management. \n",
    "<img src=\"{{site.baseurl}}/images/dbfeaturess.PNG\" alt=\"GET\" class=\"pic\">\n",
    "\n",
    "\n",
    "#### Get Request to Display Datatable\n",
    "<img src=\"{{site.baseurl}}/images/getfrontend.PNG\" alt=\"GET\" class=\"pic\">\n",
    "Sends a GET request to the API_URL endpoint to fetch all quotes.\n",
    "Awaits the API response, which returns a JSON object containing an array of quote records. The data is transferred with JSON using jsonify(), which converts Python objects like dictionaries or lists into a JSON-formatted response that the frontend can easily process. 🚀\n",
    "Dynamically adds a new row for each quote fetched.\n",
    "\n",
    "<img src=\"{{site.baseurl}}/images/getmethoddb.PNG\" alt=\"GET\" class=\"pic\">\n",
    "\n",
    "### User Actions\n",
    "There is a table that allows the user the input a quote, author and date. The POST method allows it to add a new row to the database with the data that the user added. \n",
    "The database also has edit and delete options. \n",
    "#### Edit (PUT)\n",
    "When the edit button is clicked, the user inputs new data for the quote, author, or date and the PUT method allows him to change the contents in the database without adding a new row. First, it extracts the updated quote details from the request. Then, it alidates input and ensures the quote exists. After that, it updates the database and commits the changes. Finally, it returns a JSON response confirming success or an appropriate error message.\n",
    "<img src=\"{{site.baseurl}}/images/putmethod.PNG\" alt=\"PUT\" class=\"pic\">\n",
    "\n",
    "#### DELETE\n",
    "The delete button uses the DELETE method to delete a specific quote and the whole row by its ID and returns a success or error message in JSON format.\n",
    "<img src=\"{{site.baseurl}}/images/deletemethod.PNG\" alt=\"DELETE\" class=\"pic\">\n",
    "\n",
    "### Data creation and Data recovery\n",
    "I am able to run db_init, db_restore, db_backup to initialize, backup, and restore my database table.\n",
    "<img src=\"{{site.baseurl}}/images/db_init.PNG\" alt=\"init\" class=\"pic\">\n",
    "<img src=\"{{site.baseurl}}/images/db_backup.PNG\" alt=\"backup\" class=\"pic\">\n",
    "<img src=\"{{site.baseurl}}/images/db_restore.PNG\" alt=\"restore\" class=\"pic\">\n",
    "\n"
   ]
  }
 ],
 "metadata": {
  "language_info": {
   "name": "python"
  }
 },
 "nbformat": 4,
 "nbformat_minor": 2
}
