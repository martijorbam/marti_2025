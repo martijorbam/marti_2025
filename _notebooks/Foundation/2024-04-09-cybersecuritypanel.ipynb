{
 "cells": [
  {
   "cell_type": "markdown",
   "id": "5bf97f60",
   "metadata": {},
   "source": [
    "---\n",
    "layout: post\n",
    "toc: true\n",
    "title: Cybersecurity Panel\n",
    "description: Guest Speaker Notes\n",
    "type: ccc\n",
    "comments: true\n",
    "---"
   ]
  },
  {
   "cell_type": "markdown",
   "id": "8893b5f4",
   "metadata": {},
   "source": [
    "    Real World Case with Impact\n",
    "\n",
    "David Tomasz: Really passionate about tracking criminals and identifying mistakes that they make.\n",
    "Victor Nzeata: \n",
    "Tricia Mercer: Person stole company's data, highlight internal threats.\n",
    "\n",
    "biggest Threats today:\n",
    "Ransomware. Costin public tens of millions of dollars. Encrypt an entire network. Stealing intellectual property. \n",
    "AI used a cyberattack weapon. \n",
    "Zero-day vulnerability. Very dangerous.\n",
    "\n",
    "Backdoors. \n",
    "Skilled penetration testers are highly useful. Importance of integrity and values, since they have access to private/sensitive data, financial data...\n",
    "\n",
    "Inspiration\n",
    "Importance of being curious and putting in the work, results in engaging fun work.\n",
    "\n",
    "Soft skills: be organized, a good leader, people should like you.\n",
    "Build your own network, learn how to hack it, participate in hackathons, learn in real world scenarios. \n",
    "\n",
    "Career Opportunities\n",
    "Hardship: convincing leadership to invest in cybersecurity. You have to break down how although it wont help them make money it will prevent from losing money. \n",
    "People don't realize that they can reach to other people to report what they see that's suspicious. \n",
    "\n",
    "Future of Cybersecurity\n",
    "Trends for next 5 years: Healthcare related security. Need for really skilled coders, others may be replaced by AI. \n",
    "Always learning and researching. \n",
    "\n",
    "\n"
   ]
  }
 ],
 "metadata": {
  "language_info": {
   "name": "python"
  }
 },
 "nbformat": 4,
 "nbformat_minor": 5
}
