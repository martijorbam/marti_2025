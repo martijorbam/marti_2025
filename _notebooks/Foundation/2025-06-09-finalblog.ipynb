{
 "cells": [
  {
   "cell_type": "markdown",
   "id": "28a10331",
   "metadata": {},
   "source": []
  },
  {
   "cell_type": "markdown",
   "id": "45793789",
   "metadata": {},
   "source": [
    "# 🎓 My 2024–2025 Coding Journey: Projects, Growth, and Showcasing Success\n",
    "\n",
    "As the school year comes to a close, I’m proud to reflect on a year filled with learning, problem-solving, and personal growth in computer science. Through each homework assignment and team collaboration, I’ve built more than just code — I’ve built confidence, curiosity, and the foundation for future innovation.\n",
    "\n",
    "---\n",
    "\n",
    "## 🚀 Overview of Projects: What I Built and Why It Matters\n",
    "\n",
    "Throughout the year, I’ve worked on a variety of technical projects — each with its own goals, challenges, and breakthroughs. Here are some highlights:\n",
    "\n",
    "- **Optivize**: I developed a one-page business platform with features like AI chat support, inventory management, product success prediction, and a smart calendar.\n",
    "- **StudyBuddy**: Built a note-taking feature, allowing shared access and real-time editing. This project deepened my understanding of backend communication and user interaction design.\n",
    "- **Cookie Sales Predictor**: I implemented machine learning to forecast cookie sales based on user input — one of my first real-world data applications.\n",
    "\n",
    "You can explore all my homework blogs and tech write-ups [here](https://martijorbam.github.io/marti_2025/search/).\n",
    "\n",
    "---\n",
    "\n",
    "## 🧠 A Year of Lessons: Growth Beyond the Code\n",
    "\n",
    "This year wasn’t just about mastering syntax. I’ve learned to:\n",
    "\n",
    "- **Debug with confidence** and treat failure as part of the creative process.\n",
    "- **Collaborate in teams** using Agile principles and Git/GitHub.\n",
    "- **Present my work clearly**, whether in blogs, demos, or live showcases.\n",
    "- **Use tools like SQLite, Flask** to build full-stack web apps.\n",
    "\n",
    "Every homework submission became a building block toward a bigger goal. This year taught me not just how to code — but how to *think like a developer*.\n",
    "\n",
    "---\n",
    "\n",
    "## 🌟 Showcasing My Work: N@tM and Beyond\n",
    "\n",
    "One of the most exciting moments this year was **N@tM (Night at the Museum) - June 2025**. I showcased my team's project to families, students, and community leaders. I demonstrated the features of Optivize and got real-time feedback from visitors who were impressed by the AI integration and business focus.\n",
    "\n",
    "Additionally, I’ve kept a detailed blog throughout the year to document and reflect on my technical journey. My blog is more than a portfolio — it’s a certification of the hard work and growth I’ve achieved this year.\n",
    "\n",
    "---\n",
    "\n",
    "## 💡 What Makes My Work Unique?\n",
    "\n",
    "- **I connect code to real impact.** Whether helping local businesses or building educational tools, I code with purpose.\n",
    "- **I lead with structure.** As a Scrum Master, I organize teams, manage timelines, and ensure everyone contributes their best.\n",
    "- **I write clean and thoughtful reflections** to track my journey and help others learn from my experience.\n",
    "\n",
    "---\n",
    "\n",
    "## ✅ Looking Ahead\n",
    "\n",
    "The lessons and projects from this year are just the beginning. I’m excited to keep building, learning, and sharing what I create. Whether through future internships, open-source contributions, or launching new ideas, I’m ready to take everything I’ve learned to the next level.\n",
    "\n",
    "Thanks for following along with my journey.\n",
    "\n",
    "— **Martí Jorba**\n"
   ]
  }
 ],
 "metadata": {
  "language_info": {
   "name": "python"
  }
 },
 "nbformat": 4,
 "nbformat_minor": 5
}
