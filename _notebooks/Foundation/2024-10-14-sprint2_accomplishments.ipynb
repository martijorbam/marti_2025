{
 "cells": [
  {
   "cell_type": "markdown",
   "metadata": {},
   "source": [
    "---\n",
    "layout: post\n",
    "title: Sprint 2 Accomplishments \n",
    "description:  Goals-Achievements\n",
    "comments: true\n",
    "---"
   ]
  },
  {
   "cell_type": "markdown",
   "metadata": {},
   "source": [
    "# Reflection\n",
    "Thorough this week I learned about variables, data types, mathematical expressions, strings, booleans, conditionals, nested conditionals, iteration and lists in Python and Javascript. I also learned how to solve problems using Pseudocode instead of actual code.\n",
    "\n",
    "This is why I know my units: Every lesson had to be reinforced through practical uses and hacks that I had to complete. These assignments needed me to show my mastery in tangible ways so as not to passively get by learning it. \n",
    "That is how I construct a summary on my blog: reflecting on how well I know the content, determining how I will review them when necessary. This reflection will help me keep track of my progress.\n",
    "\n",
    "This is how you know I am more than be perfunctory on my learning journey: I applied the knowledge in the hacks and reflected on each topic thoughtfully that I learn. Here are some memories from my homework, learning, and teaching moments: each hack brought different challenges and other insights helpful in making concrete my learning of the subject matter.\n",
    "\n",
    "Here are some memories from my homework, learning and teaching: I remember when we were creating the hacks for our lesson, it took us some time to figure out what the right one would be, since there were many different ways of using the content that we just taught. I also remember doing the hacks for most groups and how, a lot of times, it required me to go back to the lesson in order to make sure that I was doing the hack in the right way.\n",
    "\n",
    "This is how you know my work is distinctive, unique and genuine: Through the effort, creativity, and care that i put in my assignments and reflections, showcasing my own personal learning style. In this manner, with each task I do, I am not just doing assignments but really thinking about the material. I did add some extra things to some of the hacks to make it more unique.\n"
   ]
  },
  {
   "cell_type": "markdown",
   "metadata": {},
   "source": [
    "# Completed Hacks\n"
   ]
  },
  {
   "cell_type": "markdown",
   "metadata": {},
   "source": [
    "# Lessons Taught\n"
   ]
  }
 ],
 "metadata": {
  "language_info": {
   "name": "python"
  }
 },
 "nbformat": 4,
 "nbformat_minor": 2
}
