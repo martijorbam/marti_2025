{
 "cells": [
  {
   "cell_type": "raw",
   "id": "50a67db2",
   "metadata": {
    "vscode": {
     "languageId": "raw"
    }
   },
   "source": [
    "---\n",
    "layout: post\n",
    "toc: true\n",
    "categories: [1. Study Plan]\n",
    "title: Personal Study Blog\n",
    "description: Prepare for AP CSP exam\n",
    "type: ccc\n",
    "comments: true\n",
    "---"
   ]
  },
  {
   "cell_type": "markdown",
   "id": "26870572",
   "metadata": {},
   "source": [
    "### MCQ Overview\n",
    "<img src=\"{{site.baseurl}}/images/mcqpic.PNG\" title=\"Overview\" alt=\"\">\n",
    "<img src=\"{{site.baseurl}}/images/mcqskills.PNG\" title=\"Big Ideas\" alt=\"\">"
   ]
  },
  {
   "cell_type": "markdown",
   "id": "16a1e648",
   "metadata": {},
   "source": [
    "## Study Plan\n",
    "\n",
    "\n",
    "### Topics with less than an 80% Average Performance\n",
    "\n",
    "\n",
    "##### In the next days, I will spend extra time reviewing the following Big Ideas:\n",
    "\n",
    "\n",
    "- 3.17: Algorithmic Efficiency\n",
    "What It Covers: This concept focuses on evaluating the efficiency of algorithms, particularly in terms of time complexity and space complexity.  Expected to understand how different algorithms perform as the size of the input grows, especially regarding the best, worst, and average cases. Big-O notation is essential in this concept.\n",
    "\n",
    "\n",
    "- 3.13: Developing Procedures\n",
    "This concept involves writing and organizing code into reusable procedures (or functions). Need to understand the purpose of creating procedures, how to define them, and how they contribute to code organization and efficiency. Also expected to pass parameters and use return values effectively.\n",
    "\n",
    "- 3.9: Developing Algorithms\n",
    "This concept focuses on creating step-by-step procedures (algorithms) to solve problems. Need to understand how to break down problems into manageable parts and create efficient algorithms for solving them. This includes thinking through the sequence of actions and determining logical steps to reach a solution.\n",
    "\n",
    "- 3.10: Lists\n",
    "Lists are a collection type used to store multiple items in an ordered manner. Focus on creating, modifying, and iterating over lists. Also need to understand how to access, update, and manipulate data stored in lists.\n",
    "\n",
    "\n",
    "#### How These Concepts Interconnect:\n",
    "- Algorithmic Efficiency is important when you develop algorithms involving lists because a well-designed algorithm can optimize how you interact with data.\n",
    "\n",
    "- Developing Procedures is essential for breaking down problems, and you will frequently write procedures to handle list manipulations, search operations, and more.\n",
    "\n",
    "- Developing Algorithms will often involve manipulating lists or other data structures, and ensuring these algorithms are efficient is crucial to handling large datasets.\n",
    "\n",
    "\n",
    "---\n",
    "\n",
    "\n",
    "### Lesson Blogs\n",
    "<a href=\"{{site.baseurl}}/search\">Categories with Each Lesson</a>\n"
   ]
  }
 ],
 "metadata": {
  "language_info": {
   "name": "python"
  }
 },
 "nbformat": 4,
 "nbformat_minor": 5
}
