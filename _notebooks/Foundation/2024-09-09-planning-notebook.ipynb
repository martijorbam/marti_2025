{
 "cells": [
  {
   "cell_type": "markdown",
   "metadata": {
    "vscode": {
     "languageId": "plaintext"
    }
   },
   "source": [
    "---\n",
    "layout: post\n",
    "title: Planning \n",
    "description:  Goals-Achievements\n",
    "type: issues \n",
    "comments: true\n",
    "---"
   ]
  },
  {
   "cell_type": "markdown",
   "metadata": {},
   "source": [
    "Goals Accomplished:"
   ]
  },
  {
   "cell_type": "markdown",
   "metadata": {},
   "source": [
    "-Edit about page\n",
    "\n",
    "-Create and edit new blogs\n",
    "\n",
    "-Journey page explaining what I did\n",
    "\n",
    "-Add a new page about a specific content\n",
    "\n",
    "-Use emojis\n",
    "\n",
    "-Add mario\n",
    "\n",
    "-Add f1 car that can be controlled with arrow keys"
   ]
  }
 ],
 "metadata": {
  "language_info": {
   "name": "python"
  }
 },
 "nbformat": 4,
 "nbformat_minor": 2
}
