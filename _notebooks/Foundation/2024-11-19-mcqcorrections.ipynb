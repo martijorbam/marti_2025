{
 "cells": [
  {
   "cell_type": "markdown",
   "metadata": {},
   "source": [
    "---\n",
    "layout: post\n",
    "title: MCQ Corrections  \n",
    "description:  2018 Practice Exam MCQ\n",
    "comments: true\n",
    "---"
   ]
  },
  {
   "cell_type": "markdown",
   "metadata": {},
   "source": [
    "### Q14\n",
    "There were 2 different programs. I chose D, but the right answer was C. This is because The programs each display ten values, but each value displayed by program B is one greater than the\n",
    "corresponding value from program A. Program A displays 1 2 3 4 5 6 7 8 9 10 and program B displays  2 3 4 5 6 7 8 9 10 11.\n",
    "### Q23\n",
    "\"The following figures represent different ways of configuring a network of physically linked computers labeled P, Q, R, and S. A line between two computers indicates that the computers can communicate directly with each other. In which configuration is it NOT possible to have redundant routing between computers P and S?\"\n",
    "I chose C, but the right answer was B. This is because redundant routing is impossible if there is only one possible path from one device to another. There is only one possible path from P to S (P to R to Q to S).\n",
    "### Q28\n",
    "\"A text-editing application uses binary sequences to represent each of 200 different characters. What is the minimum number of bits needed to assign a unique bit sequence to each of the possible characters?\"\n",
    "I chose A but the correct answer is D. This is because using 8 bits will allow for up to 256 characters open parenthesis, 2 raised to the eighth power equals 256, close parenthesis.\n",
    "### Q30\n",
    "\"Which of the following best approximates the amount of time it takes the program to execute?\"\n",
    "I chose A but the right answer was D. This is because each call to the Analysis procedure requires one hour of program execution time. The procedure is called once before the loop, and then four times inside the loop (once for each of the four entries in One word, genre List). Therefore, the program will take approximately 5 hours to execute.\n",
    "### Q43\n",
    "\"Based on the values in the table, which of the following best characterizes the algorithm for very large values of n ?\"\n",
    "I chose B but the right answer is A. This is because the pattern in the table appears to indicate that there are n squared steps for a list containing n items. This number of steps is a polynomial and therefore the algorithm runs in reasonable time. \n",
    "### Q47\n",
    "\"In public key cryptography, the sender uses the recipient’s public key to encrypt a message. Which of the following is needed to decrypt the message?\"\n",
    "I chose C but the right answer is D. This is because in public cryptography, a message is encrypted with a recipient’s public key and decrypted with the recipient’s private key.\n",
    "### Q50\n",
    "\"The procedure below searches for the value target in list. It returns true if target is found and returns false otherwise. Which of the following are true statements about the procedure?\"\n",
    "I chose A but the right answer is B. This is because the procedure implements a linear search, which sequentially compares each element of the list with the target value. The list does not need to be sorted because the procedure checks list elements until either the target is found or it reaches the end of the list.\n",
    "### Q54\n",
    "\"A programmer notices the following two procedures in a library. The procedures do similar, but not identical, things.\n",
    "Procedure Square, open parenthesis, n, close parenthesis returns the value N squared.\n",
    "Procedure Cube, open parenthesis, n, close parenthesis returns the value N raised to the third power.\n",
    "Which of the following procedures is a generalization of the procedures described above?\"\n",
    "I chose C but the right answer is D. This is because the procedures square and cube are each used to determine a power of n. A generalization of this procedure is Power, open parenthesis, n comma m, close parenthesis, which calculates n raised to the mpower.\n",
    "### Q55\n",
    "\"A student wrote the procedure below, which is intended to ask whether a user wants to keep playing a game. The procedure does not work as intended.\n",
    "Which of the following best describes the result of running the procedure?\"\n",
    "I chose A but the correct answer is D. This is because the expression open parenthesis, open parenthesis, response equals, open quotation, y, close quotation, close parenthesis, AND, open parenthesis, response equals, open quotation, yes, close quotation, close parenthesis, close parenthesisalways evaluates to false because it is not possible for the variable response to be equal to both Open quotation, y, close quotation and Open quotation, yes, close quotation. Therefore, the procedure will always\n",
    "return false.\n",
    "### Q58\n",
    "\"Which of the following are true statements about how the Internet enables crowdsourcing?\"\n",
    "I chose C but the correct answer is A. This is because the Internet can provide tools, information, and knowledge to crowdsourcing participants and can lower geographic barriers to potential participants. However, there exist problems that cannot be solved in reasonable time, even with a distributed approach.\n",
    "### Q60\n",
    "\"Which of the following are ways in which a programmer can use abstraction to manage the complexity of a program?\"\n",
    "I chose A and B, but the right answer is A and D. This is because creating a list of names is an example of a data abstraction that may make it easier for a programmer to manage the complexity of a program.\n"
   ]
  }
 ],
 "metadata": {
  "language_info": {
   "name": "python"
  }
 },
 "nbformat": 4,
 "nbformat_minor": 2
}
