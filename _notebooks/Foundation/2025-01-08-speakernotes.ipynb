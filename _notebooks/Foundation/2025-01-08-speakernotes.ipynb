{
 "cells": [
  {
   "cell_type": "markdown",
   "metadata": {},
   "source": [
    "---\n",
    "layout: post\n",
    "title: Speaker Notes  \n",
    "description:  Student Panel Blog\n",
    "comments: true\n",
    "---"
   ]
  },
  {
   "cell_type": "markdown",
   "metadata": {
    "vscode": {
     "languageId": "plaintext"
    }
   },
   "source": [
    "## General Advice\n",
    "- Focus on understanding code and effectively communicating with your team.\n",
    "- Be concise and prepared before presenting:\n",
    "  - Know what you’re going to say to appear more serious and professional.\n",
    "  - Be direct and clear.\n",
    "- Stay organized with:\n",
    "  - **Issues**: Use them to establish a clear methodology.\n",
    "  - **Flowcharts**: Simplify communication and structure your ideas.\n",
    "- Learn Git: It’s a valuable skill for internships and real-world jobs.\n",
    "\n",
    "## College Admissions Advice\n",
    "- **AP Classes**:\n",
    "  - Take APs to earn college credits.\n",
    "  - Community college classes can often transfer to your college more easily than AP credits.\n",
    "- **Essays**:\n",
    "  - Highlight CSP and other projects and achievements that showcase your skills and strengths.\n",
    "  - Show passion and mention <u>specific</u> aspects of the university where you want to make an impact.\n",
    "  - Adapt essays for multiple applications instead of rewriting them from scratch.\n",
    "- **Connections**:\n",
    "  - Build relationships in college and through clubs—they’ll help with job opportunities.\n",
    "  - Research colleges and email professors to learn more about programs.\n",
    "- **Clubs**:\n",
    "  - Find clubs you’re passionate about; focus on quality over quantity.\n",
    "\n",
    "## College and Career Tips\n",
    "- **GPA**: Grades are less important than projects and practical skills.\n",
    "- **Internships**:\n",
    "  - Start with smaller companies and startups to gain experience.\n",
    "  - Your first summer internship doesn’t need to align perfectly with your major.\n",
    "  - Schools often have creator fairs that are great for networking.\n",
    "- **Portfolios**:\n",
    "  - Create a portfolio of projects and a personal website to showcase your work."
   ]
  }
 ],
 "metadata": {
  "language_info": {
   "name": "python"
  }
 },
 "nbformat": 4,
 "nbformat_minor": 2
}
