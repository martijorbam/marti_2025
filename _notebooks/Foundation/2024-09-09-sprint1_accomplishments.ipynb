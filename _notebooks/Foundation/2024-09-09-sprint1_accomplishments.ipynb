{
 "cells": [
  {
   "cell_type": "markdown",
   "metadata": {
    "vscode": {
     "languageId": "plaintext"
    }
   },
   "source": [
    "---\n",
    "layout: post\n",
    "title: Sprint 1 Accomplishments \n",
    "description:  Goals-Achievements\n",
    "type: issues \n",
    "comments: true\n",
    "---"
   ]
  },
  {
   "cell_type": "markdown",
   "metadata": {},
   "source": [
    "Goals Accomplished/Attempted:"
   ]
  },
  {
   "cell_type": "markdown",
   "metadata": {},
   "source": [
    "-Edit about page\n",
    "\n",
    "-Create and edit new blogs\n",
    "\n",
    "-Journey page explaining what I did\n",
    "\n",
    "-Add a new page about a specific content\n",
    "\n",
    "-Attempted to use emojis. I got the error: \"externally managed environment\" so I had to activate the virtual environment in order to make it work, it took me some time to figure it out.\n",
    "\n",
    "-Add mario\n",
    "\n",
    "-Added a bunch of notebooks with different content depending on what I was asked to do\n",
    "\n",
    "-Add f1 car that can be controlled with arrow keys\n",
    "\n",
    "-Attempted to make a little soccer but I didn't have time to make it work so I will be trying it again in the future.\n",
    "\n",
    "-Add several games\n",
    "\n",
    "-Be able to search music and listen to it\n",
    "\n",
    "-Binary Calculator\n",
    "\n",
    "-Keep editing the page's theme and adding more functionalities"
   ]
  }
 ],
 "metadata": {
  "language_info": {
   "name": "python"
  }
 },
 "nbformat": 4,
 "nbformat_minor": 2
}
