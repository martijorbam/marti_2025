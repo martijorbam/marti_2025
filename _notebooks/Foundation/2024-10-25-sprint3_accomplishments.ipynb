{
 "cells": [
  {
   "cell_type": "markdown",
   "metadata": {},
   "source": [
    "---\n",
    "layout: post\n",
    "title: Sprint 3 Accomplishments \n",
    "description:  Goals, Achievements, Progress\n",
    "comments: true\n",
    "---"
   ]
  },
  {
   "cell_type": "markdown",
   "metadata": {},
   "source": [
    "## Week 1\n",
    "### Big Idea 1.1 Collaboration"
   ]
  },
  {
   "cell_type": "markdown",
   "metadata": {},
   "source": [
    "\n",
    "In our project on developing a social media page about school sports (football), we’re seeing firsthand how collaboration can improve computing innovations. Here’s how we’re tackling it:\n",
    "\n",
    "Diverse Perspectives and Idea Generation: Working as a group to brainstorm ideas for the website, we’ve been able to bring together different viewpoints and creative ideas. This has helped us shape the project to meet a broader audience’s needs and has prevented biases we might have had working alone.\n",
    "\n",
    "Using Collaboration Tools: We created Postman accounts for each team member to make it easier to share and test APIs. We’re also using Canva to design the site together and GitHub to fork our frontend code, so everyone can edit it without conflicts. These tools make it simple to share ideas and feedback and keep track of each other's progress.\n",
    "\n",
    "Structured Collaboration: Setting up the frontend and backend in Visual Studio gave us a solid foundation. With our GitHub fork, each person can contribute to the project in their own way. This structure allows us to work independently while ensuring our efforts align toward a common goal.\n",
    "\n",
    "Building Interpersonal Skills: We’re constantly using communication to share ideas on Canva, negotiation and consensus-building to agree on designs, and even conflict resolution when we have different opinions on the direction of the page. These skills have been key, especially since this week was all about ideation without coding.\n",
    "\n",
    "As we move into coding, these collaborative practices and interpersonal skills will help us tackle any issues that come up and make sure the final product reflects our team’s combined talents."
   ]
  },
  {
   "cell_type": "markdown",
   "metadata": {
    "vscode": {
     "languageId": "plaintext"
    }
   },
   "source": [
    "<head>\n",
    "  <meta charset=\"UTF-8\">\n",
    "  <meta name=\"viewport\" content=\"width=device-width, initial-scale=1.0\">\n",
    "  <title>Centered Image Grid</title>\n",
    "  <style>\n",
    "    body {\n",
    "      display: flex;\n",
    "      justify-content: center;\n",
    "      align-items: center;\n",
    "      min-height: 100vh;\n",
    "      margin: 0;\n",
    "      background-color: #f0f0f0;\n",
    "    }\n",
    "    .grid-container {\n",
    "      display: grid;\n",
    "      grid-template-columns: repeat(4, 1fr);\n",
    "      gap: 10px;\n",
    "      max-width: 600px;\n",
    "      width: 100%;\n",
    "      padding: 20px;\n",
    "      box-sizing: border-box;\n",
    "    }\n",
    "    .grid-item {\n",
    "      background-color: #ddd;\n",
    "      width: 100%;\n",
    "      padding-top: 100%; /* 1:1 Aspect Ratio */\n",
    "      position: relative;\n",
    "    }\n",
    "    .grid-item img {\n",
    "      position: absolute;\n",
    "      top: 0;\n",
    "      left: 0;\n",
    "      width: 100%;\n",
    "      height: 100%;\n",
    "      object-fit: cover;\n",
    "    }\n",
    "    /* Hide the last grid cell on the first row */\n",
    "    .grid-container > .grid-item:nth-child(3):after {\n",
    "      content: \"\";\n",
    "      grid-column: span 1;\n",
    "    }\n",
    "  </style>\n",
    "</head>\n",
    "<body>\n",
    "\n",
    "  <div class=\"grid-container\">\n",
    "    <div class=\"grid-item\"><img src=\"{{site.baseurl}}/images/flocker_progress/flocker_Frontend_make.PNG\" alt=\"Image 1\"></div>\n",
    "    <div class=\"grid-item\"><img src=\"{{site.baseurl}}/images/flocker_progress/github_sharedfork_frontend.PNG\" alt=\"Image 2\"></div>\n",
    "    <div class=\"grid-item\"><img src=\"{{site.baseurl}}/images/flocker_progress/google_doc_flocker.png\" alt=\"Image 3\"></div>\n",
    "    <div class=\"grid-item\"><img src=\"{{site.baseurl}}/images/flocker_progress/login_backend.PNG\" alt=\"Image 4\"></div>\n",
    "    <div class=\"grid-item\"><img src=\"{{site.baseurl}}/images/flocker_progress/login_flocker.PNG\" alt=\"Image 5\"></div>\n",
    "    <div class=\"grid-item\"><img src=\"{{site.baseurl}}/images/flocker_progress/postman_group.png\" alt=\"Image 6\"></div>\n",
    "    <div class=\"grid-item\"><img src=\"{{site.baseurl}}/images/flocker_progress/visual_design_flocker.png\" alt=\"Image 7\"></div>\n",
    "  </div>\n",
    "\n",
    "</body>"
   ]
  }
 ],
 "metadata": {
  "language_info": {
   "name": "python"
  }
 },
 "nbformat": 4,
 "nbformat_minor": 2
}
