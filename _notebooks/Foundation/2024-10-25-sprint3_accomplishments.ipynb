{
 "cells": [
  {
   "cell_type": "markdown",
   "metadata": {},
   "source": [
    "---\n",
    "layout: post\n",
    "title: Sprint 3 Accomplishments \n",
    "description:  Goals, Achievements, Progress\n",
    "comments: true\n",
    "---"
   ]
  },
  {
   "cell_type": "markdown",
   "metadata": {},
   "source": [
    "## Week 1\n",
    "### Big Idea 1.1 Collaboration"
   ]
  },
  {
   "cell_type": "markdown",
   "metadata": {},
   "source": [
    "\n",
    "In our project on developing a social media page about school sports (football), we’re seeing firsthand how collaboration can improve computing innovations. Here’s how we’re tackling it:\n",
    "\n",
    "Diverse Perspectives and Idea Generation: Working as a group to brainstorm ideas for the website, we’ve been able to bring together different viewpoints and creative ideas. This has helped us shape the project to meet a broader audience’s needs and has prevented biases we might have had working alone.\n",
    "\n",
    "Using Collaboration Tools: We created Postman accounts for each team member to make it easier to share and test APIs. We’re also using Canva to design the site together and GitHub to fork our frontend code, so everyone can edit it without conflicts. These tools make it simple to share ideas and feedback and keep track of each other's progress.\n",
    "\n",
    "Structured Collaboration: Setting up the frontend and backend in Visual Studio gave us a solid foundation. With our GitHub fork, each person can contribute to the project in their own way. This structure allows us to work independently while ensuring our efforts align toward a common goal.\n",
    "\n",
    "Building Interpersonal Skills: We’re constantly using communication to share ideas on Canva, negotiation and consensus-building to agree on designs, and even conflict resolution when we have different opinions on the direction of the page. These skills have been key, especially since this week was all about ideation without coding.\n",
    "\n",
    "As we move into coding, these collaborative practices and interpersonal skills will help us tackle any issues that come up and make sure the final product reflects our team’s combined talents."
   ]
  },
  {
   "cell_type": "markdown",
   "metadata": {
    "vscode": {
     "languageId": "plaintext"
    }
   },
   "source": [
    "<head>\n",
    "  <meta charset=\"UTF-8\">\n",
    "  <meta name=\"viewport\" content=\"width=device-width, initial-scale=1.0\">\n",
    "  <title>Vertical Image Layout</title>\n",
    "  <style>\n",
    "    .image-container img {\n",
    "      max-width: 100%;\n",
    "      height: auto;\n",
    "      margin-bottom: 20px;\n",
    "      box-shadow: 0px 4px 8px rgba(0, 0, 0, 0.1); /* Optional shadow for aesthetics */\n",
    "    }\n",
    "  </style>\n",
    "</head>\n",
    "<body>\n",
    "\n",
    "  <div class=\"image-container\">\n",
    "    <img src=\"{{site.baseurl}}/images/flocker_progress/flocker_Frontend_make.PNG\" alt=\"Image 1\">\n",
    "    <img src=\"{{site.baseurl}}/images/flocker_progress/github_sharedfork_frontend.PNG\" alt=\"Image 2\">\n",
    "    <img src=\"{{site.baseurl}}/images/flocker_progress/google_doc_flocker.png\" alt=\"Image 3\">\n",
    "    <img src=\"{{site.baseurl}}/images/flocker_progress/login_backend.PNG\" alt=\"Image 4\">\n",
    "    <img src=\"{{site.baseurl}}/images/flocker_progress/login_flocker.PNG\" alt=\"Image 5\">\n",
    "    <img src=\"{{site.baseurl}}/images/flocker_progress/postman_group.png\" alt=\"Image 6\">\n",
    "    <img src=\"{{site.baseurl}}/images/flocker_progress/visual_design_flocker.png\" alt=\"Image 7\">\n",
    "  </div>\n",
    "\n",
    "</body>\n",
    "\n",
    "https://docs.google.com/document/d/17NTxzOPUCTLTYmzFto4Ilbxx1yOnaCPo3Z-sko6RzcY/edit "
   ]
  },
  {
   "cell_type": "markdown",
   "metadata": {},
   "source": [
    "## Week 2"
   ]
  },
  {
   "cell_type": "markdown",
   "metadata": {},
   "source": [
    "This week, our team realized that focusing on the frontend of our social media-inspired football page would improve user interaction and engagement, so we added features to allow reactions on each post, enhanced the chatbox, and refined the “add a new post” option. These changes fall under the social media category of computing innovation, but they also connect to user interface design, user experience, and information management. By understanding the inputs—like clicks, keyboard entries, and touch events—and how these generate outputs, such as visible reactions or text posts, we can create a more intuitive experience. \n",
    "Currently, inputs trigger frontend events that update the page locally, but we plan to expand this by connecting to a backend database so all users see the same posts, reactions, and chat messages. This will involve coding segments and functions for algorithms that store, retrieve, and synchronize data, making the experience consistent across users. \n",
    "Frontend coding organizes interactions through visible interfaces, handling inputs and events directly on the user's side, while backend coding, which manages data storage and logic, ensures the persistence and accessibility of shared content across devices. This distinction helps us understand the program's behavior during execution and will guide us in adding scalable backend solutions for synchronized social interaction."
   ]
  },
  {
   "cell_type": "markdown",
   "metadata": {},
   "source": [
    "<head>\n",
    "  <meta charset=\"UTF-8\">\n",
    "  <meta name=\"viewport\" content=\"width=device-width, initial-scale=1.0\">\n",
    "  <title>Vertical Image Layout</title>\n",
    "  <style>\n",
    "    .image-container img {\n",
    "      max-width: 100%;\n",
    "      height: auto;\n",
    "      margin-bottom: 20px;\n",
    "      box-shadow: 0px 4px 8px rgba(0, 0, 0, 0.1); /* Optional shadow for aesthetics */\n",
    "    }\n",
    "  </style>\n",
    "</head>\n",
    "<body>\n",
    "\n",
    "  <div class=\"image-container\">\n",
    "    <img src=\"{{site.baseurl}}/images/flocker_progress/addapostupdate.PNG\" alt=\"Image 1\">\n",
    "    <img src=\"{{site.baseurl}}/images/flocker_progress/announcementreactions.PNG\" alt=\"Image 2\">\n",
    "    <img src=\"{{site.baseurl}}/images/flocker_progress/chatroom.PNG\" alt=\"Image 3\">\n",
    "  </div>\n",
    "\n",
    "</body>"
   ]
  },
  {
   "cell_type": "markdown",
   "metadata": {},
   "source": [
    "## Final Accomplishments"
   ]
  },
  {
   "cell_type": "markdown",
   "metadata": {},
   "source": [
    "We found out how to create posts and store them in the backend. We groups and channels to post in them. We created a chatroom but we weren't able to finish it.\n",
    "<img src=\"{{site.baseurl}}/images/flocker_progress/posts.PNG\" alt=\"Image 1\">"
   ]
  }
 ],
 "metadata": {
  "language_info": {
   "name": "python"
  }
 },
 "nbformat": 4,
 "nbformat_minor": 2
}
