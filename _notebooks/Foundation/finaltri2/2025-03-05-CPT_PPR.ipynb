{
 "cells": [
  {
   "cell_type": "raw",
   "metadata": {
    "vscode": {
     "languageId": "raw"
    }
   },
   "source": [
    "---\n",
    "layout: post\n",
    "title: CPT and PPR Blog  \n",
    "description:  Create Performance Task (CPT), Personal Project Reference (PPR)\n",
    "comments: true\n",
    "---"
   ]
  },
  {
   "cell_type": "markdown",
   "metadata": {},
   "source": [
    "## Component A: Program Code"
   ]
  },
  {
   "cell_type": "code",
   "execution_count": null,
   "metadata": {},
   "outputs": [],
   "source": [
    "from flask import request, jsonify, Blueprint\n",
    "from model.quotesbase import db, Quotes\n",
    "\n",
    "userquotes = Blueprint('userquotes', __name__)\n",
    "\n",
    "@userquotes.route('/api/userquotes', methods=['POST'])\n",
    "def add_user():\n",
    "    # Input from the user (Component A: Input Handling)\n",
    "    data = request.get_json()\n",
    "    author = data.get('author')\n",
    "    quote = data.get('quote')\n",
    "    date = data.get('date')\n",
    "\n",
    "    if not all([author, quote, date]):\n",
    "        return jsonify({'error': 'Missing data'}), 400\n",
    "\n",
    "    new_user = Quotes(author=author, quote=quote, date=date)\n",
    "    db.session.add(new_user)\n",
    "    db.session.commit()\n",
    "\n",
    "    # Output: Confirmation message (Component A: Output Handling)\n",
    "    return jsonify({'message': 'Quote added successfully'}), 201\n",
    "\n",
    "@userquotes.route('/api/userquotes', methods=['GET'])\n",
    "def get_quotes():\n",
    "    # List usage: Storing multiple quotes (Component A: Data Abstraction)\n",
    "    quotes = Quotes.query.all()\n",
    "    result = [\n",
    "        {\n",
    "            'id': quote.id,\n",
    "            'author': quote._author,\n",
    "            'quote': quote._quote,\n",
    "            'date': quote._date\n",
    "        }\n",
    "        for quote in quotes\n",
    "    ]\n",
    "    return jsonify(result), 200\n",
    "\n",
    "@userquotes.route('/api/userquotes/<int:id>', methods=['DELETE'])\n",
    "def delete_quote(id):\n",
    "    quote = Quotes.query.get(id)\n",
    "    if not quote:\n",
    "        return jsonify({'error': 'Quote not found'}), 404\n",
    "\n",
    "    db.session.delete(quote)\n",
    "    db.session.commit()\n",
    "    return jsonify({'message': 'Quote deleted successfully'}), 200\n",
    "\n",
    "@userquotes.route('/api/userquotes/<int:id>', methods=['PUT'])\n",
    "def update_quote(id):\n",
    "    data = request.get_json()\n",
    "    author = data.get('author')\n",
    "    quote = data.get('quote')\n",
    "    date = data.get('date')\n",
    "\n",
    "    if not all([author, quote, date]):\n",
    "        return jsonify({'error': 'Missing data'}), 400\n",
    "\n",
    "    existing_quote = Quotes.query.get(id)\n",
    "    if not existing_quote:\n",
    "        return jsonify({'error': 'Quote not found'}), 404\n",
    "\n",
    "    # Procedure: Updating an existing quote (Component A: Student-Developed Procedure)\n",
    "    existing_quote._author = author\n",
    "    existing_quote._quote = quote\n",
    "    existing_quote._date = date\n",
    "\n",
    "    db.session.commit()\n",
    "\n",
    "    return jsonify({'message': 'Quote updated successfully'}), 200\n"
   ]
  },
  {
   "cell_type": "markdown",
   "metadata": {},
   "source": [
    "## Component B: VIDEO\n",
    "Demonstrates:\n",
    "- Input to your program\n",
    "- At least one aspect of the functionality of your program\n",
    "- Output produced by your program\n",
    "\n",
    "\n",
    "Requirements Followed:\n",
    "- Either .webm, .mp4, .wmv, .avi, or .mov format\n",
    "- No more than 1 minute in length\n",
    "- No more than 30MB in file size\n",
    "\n",
    "\n",
    "<video width=\"700\" controls>\n",
    "  <source src=\"{{site.baseurl}}/videos/tri2cptvid.mp4\" type=\"video/mp4\">\n",
    "</video>\n"
   ]
  },
  {
   "cell_type": "markdown",
   "metadata": {},
   "source": [
    "## Component C: PERSONALIZED PROJECT REFERENCE (PPR)\n",
    "### Student-Developed Procedure\n",
    "#### Segment 1: Procedure Definition (with sequencing, selection)"
   ]
  },
  {
   "cell_type": "code",
   "execution_count": null,
   "metadata": {},
   "outputs": [],
   "source": [
    "def update_quote(id, author, quote, date):\n",
    "    \"\"\"\n",
    "    Updates an existing quote in the database.\n",
    "    Args:\n",
    "        id (int): The ID of the quote to update.\n",
    "        author (str): The new author name.\n",
    "        quote (str): The new quote text.\n",
    "        date (str): The new date of the quote.\n",
    "    \"\"\"\n",
    "    existing_quote = Quotes.query.get(id)\n",
    "    if not existing_quote:  # Selection (if condition)\n",
    "        return {'error': 'Quote not found'}\n",
    "\n",
    "    # Sequencing (steps executed in order)\n",
    "    existing_quote._author = author\n",
    "    existing_quote._quote = quote\n",
    "    existing_quote._date = date\n",
    "\n",
    "    db.session.commit()\n",
    "\n",
    "    return {'message': 'Quote updated successfully'}\n"
   ]
  },
  {
   "cell_type": "markdown",
   "metadata": {},
   "source": [
    "#### Segment 2: Calling the Procedure"
   ]
  },
  {
   "cell_type": "code",
   "execution_count": null,
   "metadata": {},
   "outputs": [],
   "source": [
    "function editQuote(id, currentAuthor, currentQuote, currentDate) {\n",
    "    // Display the edit form and hide the add form\n",
    "    document.getElementById('quote-edit-form').style.display = 'block';\n",
    "    document.getElementById('quote-form').style.display = 'none'; // Hide the Add form\n",
    "\n",
    "    // Set placeholder values to the current quote details\n",
    "    document.getElementById('edit-author').placeholder = currentAuthor;\n",
    "    document.getElementById('edit-quote').placeholder = currentQuote;\n",
    "    document.getElementById('edit-date').placeholder = currentDate;\n",
    "\n",
    "    // Clear input fields to allow user entry\n",
    "    document.getElementById('edit-author').value = \"\";\n",
    "    document.getElementById('edit-quote').value = \"\";\n",
    "    document.getElementById('edit-date').value = \"\";\n",
    "\n",
    "    // When the form is submitted, send a PUT request to update the quote\n",
    "    const form = document.getElementById('edit-quote-form');\n",
    "    form.onsubmit = async function(event) {\n",
    "        event.preventDefault(); // Prevents default form submission behavior\n",
    "\n",
    "        // Get user input; if fields are empty, keep the previous values\n",
    "        const author = document.getElementById('edit-author').value || currentAuthor;\n",
    "        const quote = document.getElementById('edit-quote').value || currentQuote;\n",
    "        const date = document.getElementById('edit-date').value || currentDate;\n",
    "\n",
    "        // Send a PUT request to update the quote in the backend\n",
    "        const response = await fetch(`${API_URL}/${id}`, { // Calls the backend update_quote function\n",
    "            method: 'PUT', // Specifies that this request is an update operation\n",
    "            headers: {\n",
    "                'Content-Type': 'application/json', // Informs the backend that JSON data is being sent\n",
    "            },\n",
    "            body: JSON.stringify({ author, quote, date }), // Sends the updated quote data to the backend\n",
    "        });\n",
    "\n",
    "\n",
    "        // Handle the response\n",
    "        if (response.ok) {\n",
    "            alert('Notes updated successfully!'); // Notify user of success\n",
    "            fetchQuotes(); // Refresh the displayed notes\n",
    "            cancelEdit(); // Hide the edit form and show the add form again\n",
    "        } else {\n",
    "            alert('Failed to update notes.'); // Notify user of failure\n",
    "        }\n",
    "    };\n",
    "}\n",
    "="
   ]
  },
  {
   "cell_type": "markdown",
   "metadata": {},
   "source": [
    "### List Usage for Managing Complexity\n",
    "#### Segment 3: Storing Data in a List"
   ]
  },
  {
   "cell_type": "code",
   "execution_count": null,
   "metadata": {},
   "outputs": [],
   "source": [
    "quotes = Quotes.query.all()  # Retrieving all quotes\n",
    "result = [  # Using a list to store multiple quotes\n",
    "    {\n",
    "        'id': quote.id,\n",
    "        'author': quote._author,\n",
    "        'quote': quote._quote,\n",
    "        'date': quote._date\n",
    "    }\n",
    "    for quote in quotes  # Iteration over the list of quotes\n",
    "]"
   ]
  },
  {
   "cell_type": "markdown",
   "metadata": {},
   "source": [
    "#### Segment 4: Using Data from the List"
   ]
  },
  {
   "cell_type": "code",
   "execution_count": null,
   "metadata": {},
   "outputs": [],
   "source": [
    "@app.route('/api/userquotes/random', methods=['GET'])\n",
    "def get_random_quote():\n",
    "    quotes = Quotes.query.all()\n",
    "    if not quotes:  # Selection: checking if the list is empty\n",
    "        return jsonify({'error': 'No quotes available'}), 404\n",
    "\n",
    "    random_quote = random.choice(quotes)  # Using list data to select a random quote\n",
    "    return jsonify({\n",
    "        'id': random_quote.id,\n",
    "        'author': random_quote._author,\n",
    "        'quote': random_quote._quote,\n",
    "        'date': random_quote._date\n",
    "    }), 200"
   ]
  }
 ],
 "metadata": {
  "language_info": {
   "name": "python"
  }
 },
 "nbformat": 4,
 "nbformat_minor": 2
}
