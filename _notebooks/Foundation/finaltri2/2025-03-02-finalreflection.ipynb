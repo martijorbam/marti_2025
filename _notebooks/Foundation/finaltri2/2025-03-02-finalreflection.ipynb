{
 "cells": [
  {
   "cell_type": "markdown",
   "metadata": {},
   "source": [
    "---\n",
    "layout: post\n",
    "title: Final Reflection  \n",
    "description:  Reflection + Self Grade\n",
    "comments: true\n",
    "---"
   ]
  },
  {
   "cell_type": "markdown",
   "metadata": {},
   "source": [
    "## Reflection\n",
    "\n",
    "Looking back at my work on StudyBuddy, I think it turned out to be a solid project with useful features. There were challenges along the way, like figuring out the best way to handle user interactions and database management, but they helped me improve my problem-solving and collaboration skills. I think that we improved a lot as a group and we were able to communicate and collaborate a lot better towards the end of the trimester. Overall, I learned a lot about web development, backend functionality, and how to build something that’s both practical and user-friendly. Regarding my future in CompSci, I’m graduating next year and planning to major in mechanical engineering, but I still see computer science as a valuable skill to learn on the side. Whether it’s for automation, simulations, or data analysis, having some coding knowledge can make problem-solving more efficient. Even if I don’t pursue it as a career, I know it’ll come in handy in engineering projects, research, or even personal side projects in the future.\n",
    "\n",
    "## Self Grade\n",
    "\n",
    "| Category | Points Possible | Points Earned | Notes |\n",
    "|----------|----------------|--------------|-------|\n",
    "| 5 Things Over 12 Weeks (Issues, Burndown, Blog) | 5 | 4.31 | Missed some details in burndown tracking and being more specific, but overall solid work. |\n",
    "| Full Stack Project Demo (CPT Highlights & N@tM Feedback) | 2 | 1.8 | Demo covers key aspects but isn't very complex. |\n",
    "| Project Feature Blog (CPT/FRQ Language) | 1 | 0.9 | Good structure, but could be clearer in connecting to CPT/FRQ. |\n",
    "| MCQ | 1 | 0.89 | Score wasn't that great but did a decent job when evaluating the skills that I needed to work on. |\n",
    "| Retrospective (Extra point) | 1 | 0.9 | Showed interest in other projects, but next steps plan needs more detail. |\n",
    "| **Total** | **10** | **9.1** | Solid effort with minor areas for improvement. |\n",
    "\n"
   ]
  }
 ],
 "metadata": {
  "language_info": {
   "name": "python"
  }
 },
 "nbformat": 4,
 "nbformat_minor": 2
}
