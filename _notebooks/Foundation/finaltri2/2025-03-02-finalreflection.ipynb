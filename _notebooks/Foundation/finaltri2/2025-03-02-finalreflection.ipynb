{
 "cells": [
  {
   "cell_type": "markdown",
   "metadata": {},
   "source": [
    "---\n",
    "layout: post\n",
    "title: Final Reflection  \n",
    "description:  Reflection + Self Grade\n",
    "comments: true\n",
    "---"
   ]
  },
  {
   "cell_type": "markdown",
   "metadata": {},
   "source": [
    "## Reflection\n",
    "\n",
    "Looking back at my work on StudyBuddy, I think it turned out to be a solid project with useful features. There were challenges along the way, like figuring out the best way to handle user interactions and database management, but they helped me improve my problem-solving and collaboration skills. I think that we improved a lot as a group and we were able to communicate and collaborate a lot better towards the end of the trimester. Overall, I learned a lot about web development, backend functionality, and how to build something that’s both practical and user-friendly. Regarding my future in CompSci, I’m graduating next year and planning to major in mechanical engineering, but I still see computer science as a valuable skill to learn on the side. Whether it’s for automation, simulations, or data analysis, having some coding knowledge can make problem-solving more efficient. Even if I don’t pursue it as a career, I know it’ll come in handy in engineering projects, research, or even personal side projects in the future.\n",
    "\n",
    "## Self Grade\n",
    "\n",
    "\n",
    "\n"
   ]
  }
 ],
 "metadata": {
  "language_info": {
   "name": "python"
  }
 },
 "nbformat": 4,
 "nbformat_minor": 2
}
