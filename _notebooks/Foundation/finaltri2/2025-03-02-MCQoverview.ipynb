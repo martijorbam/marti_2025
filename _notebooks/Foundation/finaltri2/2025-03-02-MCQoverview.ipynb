{
 "cells": [
  {
   "cell_type": "raw",
   "metadata": {
    "vscode": {
     "languageId": "raw"
    }
   },
   "source": [
    "---\n",
    "layout: post\n",
    "title: MCQ Corrections  \n",
    "description:  An overview on the skills that I need to work on \n",
    "comments: true\n",
    "---"
   ]
  },
  {
   "cell_type": "markdown",
   "metadata": {},
   "source": [
    "## Areas for Improvement  \n",
    "\n",
    "### **Skill 1.D - Evaluate Solution Options (67%)**  \n",
    "#### **How to Improve:**  \n",
    "- **Recognize key decision factors:**  \n",
    "  - Focus on **efficiency (time and space complexity), correctness (does it fully solve the problem?), and feasibility (practicality of implementation)** when comparing solutions.  \n",
    "- **Prioritize efficiency and scalability:**  \n",
    "  - Questions in this category often ask about **optimizing algorithms, selecting the best data structures, or improving runtime performance**. Look for solutions that avoid unnecessary operations or scale better with larger inputs.  \n",
    "- **Use elimination strategies:**  \n",
    "  - If two answers seem similar, check for **unnecessary complexity, incorrect assumptions, or edge cases that might fail**.  \n",
    "- **Apply real-world thinking:**  \n",
    "  - When evaluating solutions, consider how **real-world applications choose between different approaches**, such as sorting algorithms, search techniques, or memory management strategies.  \n",
    "\n",
    "---\n",
    "\n",
    "### **Skill 3.B - Use Abstraction to Manage Complexity in a Program (60%)**  \n",
    "#### **How to Improve:**  \n",
    "- **Recognize abstraction layers within the problem:**  \n",
    "  - Questions in this category typically ask about **functions, procedures, libraries, and modular design**. Look for answers that emphasize **hiding details and focusing on high-level functionality**.  \n",
    "- **Identify general vs. specific options:**  \n",
    "  - A good abstraction is **reusable** and **avoids unnecessary details**. If a question presents multiple code snippets, the best answer often involves **simpler, more reusable solutions that don’t rely on specific implementations**.  \n",
    "- **Understand how abstraction simplifies code:**  \n",
    "  - Many questions will test knowledge of how **functions, parameters, and APIs** can **reduce redundancy and improve maintainability**. Be prepared to analyze whether a function correctly abstracts away repetitive code.  \n",
    "- **Recognize redundant code:**  \n",
    "  - If an answer choice seems overly detailed or repetitive, it likely violates abstraction principles. The best solutions **break problems into modular components** that can be reused.  \n",
    "\n",
    "---\n",
    "\n",
    "### **Skill 4.C - Identify and Correct Errors in Algorithms and Programs (71%)**  \n",
    "#### **How to Improve:**  \n",
    "- **Understand common error types:**  \n",
    "  - Questions often focus on **logical errors, syntax errors, and incorrect assumptions**. Common topics include:  \n",
    "    - **Off-by-one errors** in loops (e.g., does the loop run one too many or too few times?)  \n",
    "    - **Mismatched data types** (e.g., using a string where an integer is expected)  \n",
    "    - **Uninitialized or incorrectly modified variables**  \n",
    "- **Analyze answer choices before diving into the code:**  \n",
    "  - Some choices can be eliminated immediately if they include **obvious syntax errors or impossible logic** (e.g., dividing by zero, infinite loops, or mismatched function calls).  \n",
    "- **Simulate code execution mentally:**  \n",
    "  - Many questions require stepping through code **line by line** to predict output. **Tracing variables and loop iterations** carefully can help avoid mistakes.  \n",
    "- **Understand debugging techniques:**  \n",
    "  - Some questions might ask about **print statements, test cases, or logical debugging strategies**. Recognizing how to isolate issues in a program is key.  \n",
    "\n",
    "---\n",
    "\n",
    "### **Final Thoughts:**  \n",
    "These skills test both **problem-solving strategies** and **specific content knowledge** about evaluating solutions, abstraction, and debugging. Improving in these areas means **practicing more questions**, **reviewing common mistakes**, and **focusing on core computer science concepts like efficiency, modular design, and debugging techniques**."
   ]
  }
 ],
 "metadata": {
  "language_info": {
   "name": "python"
  }
 },
 "nbformat": 4,
 "nbformat_minor": 2
}
