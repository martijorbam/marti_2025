{
 "cells": [
  {
   "cell_type": "raw",
   "metadata": {
    "vscode": {
     "languageId": "raw"
    }
   },
   "source": [
    "---\n",
    "layout: post\n",
    "title: Accomplishments  \n",
    "description:  The 5 main accomplishments achieved in Trimester 2 \n",
    "comments: true\n",
    "---"
   ]
  },
  {
   "cell_type": "markdown",
   "metadata": {},
   "source": [
    "<a href=\"https://github.com/users/alexgstf/projects/1\" target=\"_blank\">Personal Burndown Kanban Board</a>\n",
    "\n",
    "Role: Backend Admin engineer\n",
    "\n",
    "**Implemented a Dynamic Notes and Sharing Feature** – Developed a note-taking system that allows users to create, edit, delete, and search notes while also enabling seamless sharing with others.\n",
    "<img src=\"{{site.baseurl}}/images/studynotes1.PNG\" alt=\"Notes\" class=\"pic\">\n",
    "<img src=\"{{site.baseurl}}/images/studynotes2.PNG\" alt=\"Notes\" class=\"pic\">\n",
    "\n",
    "\n",
    "\n",
    "**Customized Backend UI Page** – Designed and styled an intuitive backend interface for better usability and management of stored data. Also ensured db_backup, db_init, and db_restore are supported and working properly.\n",
    "<img src=\"{{site.baseurl}}/images/backendUI.PNG\" alt=\"BackendUI\" class=\"pic\">\n",
    "\n",
    "\n",
    "\n",
    "**Added Admin Datatable to Backend UI**– Successfully linked a datatable to the backend, enabling real-time retrieval and display of stored information.\n",
    "<img src=\"{{site.baseurl}}/images/admintable.PNG\" alt=\"AdminTable\" class=\"pic\">\n",
    "\n",
    "\n",
    "\n",
    "**Transitioned from Static API to Dynamic Database-Backed API** – Initially used a static API and later integrated a fully functional database system for better scalability and data management.\n",
    "<img src=\"{{site.baseurl}}/images/apis.png\" alt=\"APIs\" class=\"pic\">\n",
    "\n",
    "\n",
    "\n",
    "**Enhanced UI Styling for Login and Features** – Designed and implemented a visually appealing login/signup page and improved styling across the application, ensuring a smooth and modern user experience.\n",
    "<img src=\"{{site.baseurl}}/images/userlogin.PNG\" alt=\"LoginPage\" class=\"pic\">"
   ]
  }
 ],
 "metadata": {
  "language_info": {
   "name": "python"
  }
 },
 "nbformat": 4,
 "nbformat_minor": 2
}
