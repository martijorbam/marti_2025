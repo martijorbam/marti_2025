{
 "cells": [
  {
   "cell_type": "raw",
   "metadata": {},
   "source": [
    "---\n",
    "layout: post\n",
    "title: Accomplishments  \n",
    "description:  The 5 main accomplishments achieved in Trimester 2 \n",
    "comments: true\n",
    "---"
   ]
  },
  {
   "cell_type": "markdown",
   "metadata": {},
   "source": [
    "Implemented a Dynamic Notes and Sharing Feature – Developed a note-taking system that allows users to create, edit, delete, and search notes while also enabling seamless sharing with others.\n",
    "\n",
    "Customized Backend UI Page – Designed and styled an intuitive backend interface for better usability and management of stored data.\n",
    "\n",
    "Connected Datatable to Backend – Successfully linked a datatable to the backend, enabling real-time retrieval and display of stored information.\n",
    "\n",
    "Transitioned from Static API to Dynamic Database-Backed API – Initially used a static API and later integrated a fully functional database system for better scalability and data management.\n",
    "\n",
    "Enhanced UI Styling for Login and Features – Designed and implemented a visually appealing login/signup page and improved styling across the application, ensuring a smooth and modern user experience.\n",
    "\n"
   ]
  }
 ],
 "metadata": {
  "language_info": {
   "name": "python"
  }
 },
 "nbformat": 4,
 "nbformat_minor": 2
}
