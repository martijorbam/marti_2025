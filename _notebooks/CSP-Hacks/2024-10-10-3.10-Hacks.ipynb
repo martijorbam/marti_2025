{
 "cells": [
  {
   "cell_type": "markdown",
   "metadata": {},
   "source": [
    "---\n",
    "layout: post\n",
    "title: 3.10 Hacks\n",
    "description: Python Hacks\n",
    "---"
   ]
  },
  {
   "cell_type": "markdown",
   "metadata": {},
   "source": [
    "## First Popcorn Hack"
   ]
  },
  {
   "cell_type": "code",
   "execution_count": 1,
   "metadata": {},
   "outputs": [
    {
     "name": "stdout",
     "output_type": "stream",
     "text": [
      "['desk', 'computer', 'notebook', 'book']\n"
     ]
    }
   ],
   "source": [
    "list = ['desk', 'computer','notebook']\n",
    "list.append('book') \n",
    "print(list) "
   ]
  },
  {
   "cell_type": "markdown",
   "metadata": {},
   "source": [
    "## Second Popcorn Hack"
   ]
  },
  {
   "cell_type": "code",
   "execution_count": 2,
   "metadata": {},
   "outputs": [
    {
     "name": "stdout",
     "output_type": "stream",
     "text": [
      "['computer', 'notebook', 'book']\n"
     ]
    }
   ],
   "source": [
    "list = ['desk', 'computer','notebook']\n",
    "list.append('book') \n",
    "list.remove('desk')\n",
    "print(list) "
   ]
  },
  {
   "cell_type": "markdown",
   "metadata": {},
   "source": [
    "## Third Popcorn Hack"
   ]
  },
  {
   "cell_type": "code",
   "execution_count": 3,
   "metadata": {},
   "outputs": [
    {
     "name": "stdout",
     "output_type": "stream",
     "text": [
      "['desk', 'computer', 'pencil']\n"
     ]
    }
   ],
   "source": [
    "list = ['desk', 'computer','notebook']\n",
    "list[2] = 'pencil'\n",
    "print(list)"
   ]
  },
  {
   "cell_type": "markdown",
   "metadata": {},
   "source": [
    "## Homework Hack"
   ]
  },
  {
   "cell_type": "code",
   "execution_count": 6,
   "metadata": {},
   "outputs": [
    {
     "name": "stdout",
     "output_type": "stream",
     "text": [
      "[1, 2, 3, 4, 5, 6]\n",
      "Sum of even numbers: 12\n",
      "Minimum value: 1\n",
      "Maximum value: 6\n"
     ]
    }
   ],
   "source": [
    "def homework_requirements(numbers):\n",
    "    even_sum = sum(num for num in numbers if num % 2 == 0)\n",
    "    \n",
    "    minimum = min(numbers)\n",
    "    maximum = max(numbers)\n",
    "    \n",
    "    return even_sum, minimum, maximum\n",
    "\n",
    "numbers = [1, 2, 3, 4, 5, 6]\n",
    "even_sum, minimum, maximum = homework_requirements(numbers)\n",
    "\n",
    "print(numbers)\n",
    "print(f\"Sum of even numbers: {even_sum}\")\n",
    "print(f\"Minimum value: {minimum}\")\n",
    "print(f\"Maximum value: {maximum}\")"
   ]
  }
 ],
 "metadata": {
  "kernelspec": {
   "display_name": "Python 3",
   "language": "python",
   "name": "python3"
  },
  "language_info": {
   "codemirror_mode": {
    "name": "ipython",
    "version": 3
   },
   "file_extension": ".py",
   "mimetype": "text/x-python",
   "name": "python",
   "nbconvert_exporter": "python",
   "pygments_lexer": "ipython3",
   "version": "3.12.3"
  }
 },
 "nbformat": 4,
 "nbformat_minor": 2
}
