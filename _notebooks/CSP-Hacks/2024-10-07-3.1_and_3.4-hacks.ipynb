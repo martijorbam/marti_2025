{
 "cells": [
  {
   "cell_type": "markdown",
   "metadata": {},
   "source": [
    "---\n",
    "layout: post\n",
    "title: 3.1 and 3.4 Popcorn and HW Hacks\n",
    "description: Javascript and Python Hacks\n",
    "---"
   ]
  },
  {
   "cell_type": "markdown",
   "metadata": {},
   "source": [
    "## 3.1 Popcorn and HW Hacks"
   ]
  },
  {
   "cell_type": "code",
   "execution_count": 2,
   "metadata": {},
   "outputs": [
    {
     "name": "stdout",
     "output_type": "stream",
     "text": [
      "['Del Norte', 'soccer', 'CSP']\n",
      "{'Del Norte', 'soccer', 'CSP'}\n",
      "Hi, I go to Del Norte, I like soccer, and I'm taking CSP\n"
     ]
    }
   ],
   "source": [
    "var1 = input(\"What school do you go to?:\")\n",
    "var2 = input(\"What sport do you like?:\")\n",
    "var3 = input(\"What class are you taking right now?:\")\n",
    "\n",
    "my_list = [var1, var2, var3]\n",
    "\n",
    "my_dict = {\n",
    "    var1,\n",
    "    var2,\n",
    "    var3\n",
    "}\n",
    "\n",
    "print(my_list)\n",
    "print(my_dict)\n",
    "print(\"Hi, I go to \" + var1 + \", I like \" +  var2 + \", and I'm taking \" + var3)"
   ]
  },
  {
   "cell_type": "code",
   "execution_count": 14,
   "metadata": {
    "vscode": {
     "languageId": "javascript"
    }
   },
   "outputs": [
    {
     "data": {
      "application/javascript": "\nlet fullName = \"Jane Smith\";\nlet age = 32;\nlet email = \"jane.smith@example.com\";\nlet hobby = \"Mountain Climbing\";\nlet dietaryPreferences = \"Vegetarian\";\n\n// Create Unique ID by using the first two letters of the full name and a random number\nlet initials = fullName.slice(0, 2);\nlet randomNum = Math.floor(Math.random() * 900) + 100;\nlet uniqueID = initials + randomNum;\n\n// Store the data in an object\nlet userInfo = {\n    fullName: fullName,\n    age: age,\n    email: email,\n    hobby: hobby,\n    dietaryPreferences: dietaryPreferences,\n    uniqueID: uniqueID\n};\n\n// Create a formatted output string\nlet output = `\n    <h3>Personal Info:</h3>\n    <ul>\n        <li><b>Full Name:</b> ${userInfo.fullName}</li>\n        <li><b>Age:</b> ${userInfo.age}</li>\n        <li><b>Email:</b> ${userInfo.email}</li>\n        <li><b>Hobby:</b> ${userInfo.hobby}</li>\n        <li><b>Dietary Preferences:</b> ${userInfo.dietaryPreferences}</li>\n        <li><b>Unique ID:</b> ${userInfo.uniqueID}</li>\n    </ul>\n`;\n\n// Use the display function to output directly into the notebook\nelement.html(output);\n",
      "text/plain": [
       "<IPython.core.display.Javascript object>"
      ]
     },
     "metadata": {},
     "output_type": "display_data"
    }
   ],
   "source": [
    "%%javascript\n",
    "\n",
    "let fullName = \"Jane Smith\";\n",
    "let age = 32;\n",
    "let email = \"jane.smith@example.com\";\n",
    "let hobby = \"Mountain Climbing\";\n",
    "let dietaryPreferences = \"Vegetarian\";\n",
    "\n",
    "let initials = fullName.slice(0, 2); //first two letters of the name\n",
    "let randomNum = Math.floor(Math.random() * 900) + 100;\n",
    "let uniqueID = initials + randomNum;\n",
    "\n",
    "let userInfo = {\n",
    "    fullName: fullName,\n",
    "    age: age,\n",
    "    email: email,\n",
    "    hobby: hobby,\n",
    "    dietaryPreferences: dietaryPreferences,\n",
    "    uniqueID: uniqueID\n",
    "};\n",
    "\n",
    "let output = `\n",
    "    <h3>Personal Info:</h3>\n",
    "    <ul>\n",
    "        <li><b>Full Name:</b> ${userInfo.fullName}</li>\n",
    "        <li><b>Age:</b> ${userInfo.age}</li>\n",
    "        <li><b>Email:</b> ${userInfo.email}</li>\n",
    "        <li><b>Hobby:</b> ${userInfo.hobby}</li>\n",
    "        <li><b>Dietary Preferences:</b> ${userInfo.dietaryPreferences}</li>\n",
    "        <li><b>Unique ID:</b> ${userInfo.uniqueID}</li>\n",
    "    </ul>\n",
    "`;\n",
    "\n",
    "element.html(output);"
   ]
  },
  {
   "cell_type": "markdown",
   "metadata": {},
   "source": [
    "## 3.4 Popcorn and HW Hacks"
   ]
  },
  {
   "cell_type": "code",
   "execution_count": 17,
   "metadata": {},
   "outputs": [
    {
     "name": "stdout",
     "output_type": "stream",
     "text": [
      "String 1: I am taking CSP\n",
      "Length of String 1: 15\n",
      "Vowel Count in String 1: 4\n",
      "Average Word Length in String 1: 3.0\n",
      "Is String 1 a Palindrome? False\n",
      "\n",
      "String 2: This is the second sentence\n",
      "Length of String 2: 27\n",
      "Vowel Count in String 2: 8\n",
      "Average Word Length in String 2: 4.6\n",
      "Is String 2 a Palindrome? False\n"
     ]
    }
   ],
   "source": [
    "string1 = \"I am taking CSP\"\n",
    "string2 = \"This is the second sentence\"\n",
    "\n",
    "print(\"String 1:\", string1)\n",
    "length1 = len(string1)\n",
    "print(\"Length of String 1:\", length1)\n",
    "\n",
    "def count_vowels(text):\n",
    "    vowels = \"aeiouAEIOU\"\n",
    "    return sum(1 for char in text if char in vowels)\n",
    "\n",
    "print(\"Vowel Count in String 1:\", count_vowels(string1))\n",
    "\n",
    "def avg_word_length(text):\n",
    "    words = text.split()\n",
    "    return sum(len(word) for word in words) / len(words) if words else 0\n",
    "\n",
    "print(\"Average Word Length in String 1:\", avg_word_length(string1))\n",
    "\n",
    "def is_palindrome(text):\n",
    "    cleaned = \"\".join(text.lower().split())\n",
    "    return cleaned == cleaned[::-1]\n",
    "\n",
    "print(\"Is String 1 a Palindrome?\", is_palindrome(string1))\n",
    "\n",
    "print(\"\\nString 2:\", string2)\n",
    "length2 = len(string2)\n",
    "print(\"Length of String 2:\", length2)\n",
    "print(\"Vowel Count in String 2:\", count_vowels(string2))\n",
    "print(\"Average Word Length in String 2:\", avg_word_length(string2))\n",
    "print(\"Is String 2 a Palindrome?\", is_palindrome(string2))"
   ]
  },
  {
   "cell_type": "code",
   "execution_count": 15,
   "metadata": {
    "vscode": {
     "languageId": "javascript"
    }
   },
   "outputs": [
    {
     "data": {
      "application/javascript": "\nlet formHTML = `\n    <h3>Password Validator</h3>\n    <label for=\"password\">Enter Password:</label>\n    <input type=\"password\" id=\"password\" name=\"password\">\n    <button id=\"validateBtn\">Validate Password</button>\n    <p id=\"result\"></p>\n`;\n\nelement.append(formHTML);\n\nfunction passwordValidator(password) {\n    if (password.length < 8) {\n        return \"Password too short. Must be at least 8 characters.\";\n    }\n    if (password === password.toLowerCase() || password === password.toUpperCase()) {\n        return \"Password must contain both uppercase and lowercase letters.\";\n    }\n    if (!/\\d/.test(password)) {\n        return \"Password must contain at least one number.\";\n    }\n\n    // Optional\n    password = password.replace(\"123\", \"abc\");\n\n    let customizedPassword = password.split(\" \").join(\"-\");\n\n    return `Password is valid! Here’s a fun version: ${customizedPassword}`;\n}\n\ndocument.getElementById(\"validateBtn\").addEventListener(\"click\", function() {\n    let password = document.getElementById(\"password\").value;\n    let result = passwordValidator(password);\n    document.getElementById(\"result\").innerText = result;\n});\n",
      "text/plain": [
       "<IPython.core.display.Javascript object>"
      ]
     },
     "metadata": {},
     "output_type": "display_data"
    }
   ],
   "source": [
    "%%javascript\n",
    "\n",
    "let formHTML = `\n",
    "    <h3>Password Validator</h3>\n",
    "    <label for=\"password\">Enter Password:</label>\n",
    "    <input type=\"password\" id=\"password\" name=\"password\">\n",
    "    <button id=\"validateBtn\">Validate Password</button>\n",
    "    <p id=\"result\"></p>\n",
    "`;\n",
    "\n",
    "element.append(formHTML);\n",
    "\n",
    "function passwordValidator(password) {\n",
    "    if (password.length < 8) {\n",
    "        return \"Password too short. Must be at least 8 characters.\";\n",
    "    }\n",
    "    if (password === password.toLowerCase() || password === password.toUpperCase()) {\n",
    "        return \"Password must contain both uppercase and lowercase letters.\";\n",
    "    }\n",
    "    if (!/\\d/.test(password)) {\n",
    "        return \"Password must contain at least one number.\";\n",
    "    }\n",
    "\n",
    "    // Optional\n",
    "    password = password.replace(\"123\", \"abc\");\n",
    "\n",
    "    let customizedPassword = password.split(\" \").join(\"-\");\n",
    "\n",
    "    return `Password is valid! Here’s a fun version: ${customizedPassword}`;\n",
    "}\n",
    "\n",
    "document.getElementById(\"validateBtn\").addEventListener(\"click\", function() {\n",
    "    let password = document.getElementById(\"password\").value;\n",
    "    let result = passwordValidator(password);\n",
    "    document.getElementById(\"result\").innerText = result;\n",
    "});"
   ]
  }
 ],
 "metadata": {
  "kernelspec": {
   "display_name": "Python 3",
   "language": "python",
   "name": "python3"
  },
  "language_info": {
   "codemirror_mode": {
    "name": "ipython",
    "version": 3
   },
   "file_extension": ".py",
   "mimetype": "text/x-python",
   "name": "python",
   "nbconvert_exporter": "python",
   "pygments_lexer": "ipython3",
   "version": "3.12.3"
  }
 },
 "nbformat": 4,
 "nbformat_minor": 2
}
