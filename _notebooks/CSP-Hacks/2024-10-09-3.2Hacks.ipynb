{
 "cells": [
  {
   "cell_type": "markdown",
   "metadata": {},
   "source": [
    "---\n",
    "layout: post\n",
    "title: 3.1 and 3.4 Popcorn and HW Hacks\n",
    "description: Javascript and Python Hacks\n",
    "---"
   ]
  },
  {
   "cell_type": "markdown",
   "metadata": {},
   "source": [
    "## Hack #1"
   ]
  },
  {
   "cell_type": "code",
   "execution_count": 1,
   "metadata": {},
   "outputs": [
    {
     "name": "stdout",
     "output_type": "stream",
     "text": [
      "\n",
      "Drivers:\n",
      " - Lewis Hamilton\n",
      " - Max Verstappen\n",
      " - Charles Leclerc\n",
      " - Fernando Alonso\n",
      " - Lando Norris\n",
      "\n",
      "Teams:\n",
      " - Mercedes-AMG Petronas\n",
      " - Red Bull Racing\n",
      " - Ferrari\n",
      " - McLaren\n",
      " - Aston Martin\n",
      "\n",
      "Circuits:\n",
      " - Silverstone\n",
      " - Monza\n",
      " - Spa-Francorchamps\n",
      " - Yas Marina\n",
      " - Monaco\n",
      "\n",
      "Grand Prix:\n",
      " - British GP\n",
      " - Italian GP\n",
      " - Belgian GP\n",
      " - Abu Dhabi GP\n",
      " - Monaco GP\n",
      "\n",
      "Records:\n",
      " - Most Wins: Lewis Hamilton\n",
      " - Most Championships: Michael Schumacher & Lewis Hamilton\n",
      " - Youngest Race Winner: Max Verstappen\n"
     ]
    }
   ],
   "source": [
    "f1_data = {\n",
    "    \"Drivers\": [\"Lewis Hamilton\", \"Max Verstappen\", \"Charles Leclerc\", \"Fernando Alonso\", \"Lando Norris\"],\n",
    "    \"Teams\": [\"Mercedes-AMG Petronas\", \"Red Bull Racing\", \"Ferrari\", \"McLaren\", \"Aston Martin\"],\n",
    "    \"Circuits\": [\"Silverstone\", \"Monza\", \"Spa-Francorchamps\", \"Yas Marina\", \"Monaco\"],\n",
    "    \"Grand Prix\": [\"British GP\", \"Italian GP\", \"Belgian GP\", \"Abu Dhabi GP\", \"Monaco GP\"],\n",
    "    \"Records\": [\"Most Wins: Lewis Hamilton\", \"Most Championships: Michael Schumacher & Lewis Hamilton\", \"Youngest Race Winner: Max Verstappen\"]\n",
    "}\n",
    "\n",
    "def print_f1_data(f1):\n",
    "    for category, items in f1.items():\n",
    "        print(f\"\\n{category}:\")\n",
    "        for item in items:\n",
    "            print(f\" - {item}\")\n",
    "\n",
    "print_f1_data(f1_data)\n"
   ]
  },
  {
   "cell_type": "markdown",
   "metadata": {},
   "source": [
    "## Hack #2"
   ]
  },
  {
   "cell_type": "code",
   "execution_count": 2,
   "metadata": {},
   "outputs": [
    {
     "name": "stdout",
     "output_type": "stream",
     "text": [
      "Title: Inception\n",
      "Director: Christopher Nolan\n",
      "Genre: Sci-Fi\n",
      "Copies Available: 3\n",
      "Renters:\n",
      " - John Smith (Rented on: 2024-10-01)\n",
      " - Alice Johnson (Rented on: 2024-10-03)\n",
      "\n",
      "\n",
      "Title: The Godfather\n",
      "Director: Francis Ford Coppola\n",
      "Genre: Crime\n",
      "Copies Available: 1\n",
      "Renters:\n",
      " - Emily Davis (Rented on: 2024-09-28)\n",
      "\n",
      "\n",
      "Title: The Lord of the Rings: The Return of the King\n",
      "Director: Peter Jackson\n",
      "Genre: Fantasy\n",
      "Copies Available: 0\n",
      "Renters:\n",
      " - Michael Brown (Rented on: 2024-09-25)\n",
      " - Laura Wilson (Rented on: 2024-09-30)\n",
      "\n",
      "\n"
     ]
    }
   ],
   "source": [
    "movie_rentals = [\n",
    "    {\n",
    "        \"title\": \"Inception\",\n",
    "        \"director\": \"Christopher Nolan\",\n",
    "        \"genre\": \"Sci-Fi\",\n",
    "        \"copies_available\": 3,\n",
    "        \"renters\": [\n",
    "            {\"name\": \"John Smith\", \"rent_date\": \"2024-10-01\"},\n",
    "            {\"name\": \"Alice Johnson\", \"rent_date\": \"2024-10-03\"}\n",
    "        ]\n",
    "    },\n",
    "    {\n",
    "        \"title\": \"The Godfather\",\n",
    "        \"director\": \"Francis Ford Coppola\",\n",
    "        \"genre\": \"Crime\",\n",
    "        \"copies_available\": 1,\n",
    "        \"renters\": [\n",
    "            {\"name\": \"Emily Davis\", \"rent_date\": \"2024-09-28\"}\n",
    "        ]\n",
    "    },\n",
    "    {\n",
    "        \"title\": \"The Lord of the Rings: The Return of the King\",\n",
    "        \"director\": \"Peter Jackson\",\n",
    "        \"genre\": \"Fantasy\",\n",
    "        \"copies_available\": 0,\n",
    "        \"renters\": [\n",
    "            {\"name\": \"Michael Brown\", \"rent_date\": \"2024-09-25\"},\n",
    "            {\"name\": \"Laura Wilson\", \"rent_date\": \"2024-09-30\"}\n",
    "        ]\n",
    "    }\n",
    "]\n",
    "\n",
    "for movie in movie_rentals:\n",
    "    print(f\"Title: {movie['title']}\")\n",
    "    print(f\"Director: {movie['director']}\")\n",
    "    print(f\"Genre: {movie['genre']}\")\n",
    "    print(f\"Copies Available: {movie['copies_available']}\")\n",
    "    print(\"Renters:\")\n",
    "    for renter in movie['renters']:\n",
    "        print(f\" - {renter['name']} (Rented on: {renter['rent_date']})\")\n",
    "    print(\"\\n\")\n"
   ]
  }
 ],
 "metadata": {
  "kernelspec": {
   "display_name": "Python 3",
   "language": "python",
   "name": "python3"
  },
  "language_info": {
   "codemirror_mode": {
    "name": "ipython",
    "version": 3
   },
   "file_extension": ".py",
   "mimetype": "text/x-python",
   "name": "python",
   "nbconvert_exporter": "python",
   "pygments_lexer": "ipython3",
   "version": "3.12.3"
  }
 },
 "nbformat": 4,
 "nbformat_minor": 2
}
