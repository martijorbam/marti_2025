{
 "cells": [
  {
   "cell_type": "markdown",
   "metadata": {},
   "source": [
    "---\n",
    "layout: post\n",
    "title: 3.2 Hacks\n",
    "description: Python Hacks\n",
    "---"
   ]
  },
  {
   "cell_type": "markdown",
   "metadata": {},
   "source": [
    "## Popcorn Hack #1"
   ]
  },
  {
   "cell_type": "code",
   "execution_count": null,
   "metadata": {},
   "outputs": [
    {
     "name": "stdout",
     "output_type": "stream",
     "text": [
      "Child ticket price: $5.00\n",
      "The final price is 4.0\n"
     ]
    }
   ],
   "source": [
    "initial_price = 10\n",
    "\n",
    "age = int(input(\"Enter your age:\"))\n",
    "if age <= 12:\n",
    "    i_price = initial_price * 0.5 \n",
    "    print(f\"Child ticket price: ${i_price:.2f}\")\n",
    "elif age <= 63:\n",
    "    i_price = initial_price\n",
    "    print(f\"Adult ticket price: ${i_price:.2f}\")\n",
    "else:\n",
    "    i_price = initial_price * 0.7\n",
    "    print(f\"Senior ticket price: ${i_price:.2f}\")\n",
    "\n",
    "is_student = input(\"Are you a student? (yes/no)\")\n",
    "if is_student == 'yes':\n",
    "    fprice = i_price * 0.8\n",
    "    print(f\"The final price is ${fprice}\")\n",
    "elif is_student == 'no':\n",
    "    fprice = i_price\n",
    "    print(f\"The final price is ${fprice}\")\n",
    "else:\n",
    "    print('please answer yes/no')"
   ]
  },
  {
   "cell_type": "markdown",
   "metadata": {},
   "source": [
    "## Popcorn Hack #2"
   ]
  },
  {
   "cell_type": "code",
   "execution_count": null,
   "metadata": {},
   "outputs": [],
   "source": [
    "try:\n",
    "    num = int(input(\"Enter a number: \")) \n",
    "    result = 10 / num \n",
    "except ValueError:\n",
    "    print(\"Please enter a valid number, make sure it's an integer\")\n",
    "except ZeroDivisionError:\n",
    "    print(\"It can't be 0!\")\n",
    "else:    \n",
    "    if num % 2 == 0:\n",
    "        print(f\"The number {num} is even.\")\n",
    "    else:\n",
    "        print(f\"The number {num} is odd.\")"
   ]
  },
  {
   "cell_type": "markdown",
   "metadata": {},
   "source": [
    "## Homework Hack"
   ]
  },
  {
   "cell_type": "code",
   "execution_count": null,
   "metadata": {},
   "outputs": [],
   "source": [
    "r = True\n",
    "while r == True:\n",
    "    try:\n",
    "        num = float(input(\"Enter a number: \")) \n",
    "        result = 10 / num \n",
    "    except ValueError:\n",
    "        print(\"Error. Please enter a valid number\")\n",
    "    except ZeroDivisionError:\n",
    "        print(\"It can't be 0!\")\n",
    "    else:    \n",
    "        if num > 0:\n",
    "            print(f\"Success! {num} is positive.\")\n",
    "            r = False\n",
    "        else:\n",
    "            print(f\"The number {num} is negative, try again.\")"
   ]
  }
 ],
 "metadata": {
  "kernelspec": {
   "display_name": "Python 3",
   "language": "python",
   "name": "python3"
  },
  "language_info": {
   "codemirror_mode": {
    "name": "ipython",
    "version": 3
   },
   "file_extension": ".py",
   "mimetype": "text/x-python",
   "name": "python",
   "nbconvert_exporter": "python",
   "pygments_lexer": "ipython3",
   "version": "3.12.3"
  }
 },
 "nbformat": 4,
 "nbformat_minor": 2
}
