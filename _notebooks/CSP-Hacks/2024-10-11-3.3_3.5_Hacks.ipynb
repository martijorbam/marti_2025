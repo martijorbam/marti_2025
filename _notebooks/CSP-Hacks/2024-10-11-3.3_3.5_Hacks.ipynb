{
 "cells": [
  {
   "cell_type": "markdown",
   "metadata": {},
   "source": [
    "---\n",
    "layout: post\n",
    "title: 3.3 and 3.5 Hacks\n",
    "description: Popcorn and Homework Hacks\n",
    "---"
   ]
  },
  {
   "cell_type": "markdown",
   "metadata": {},
   "source": [
    "# 3.3"
   ]
  },
  {
   "cell_type": "markdown",
   "metadata": {},
   "source": [
    "## Popcorn Hack #1"
   ]
  },
  {
   "cell_type": "code",
   "execution_count": null,
   "metadata": {},
   "outputs": [],
   "source": [
    "def output(x):\n",
    "    print(8 * (x - 2) + 9)\n",
    "number = float(input('Enter an x value'))\n",
    "output(number)"
   ]
  },
  {
   "cell_type": "markdown",
   "metadata": {},
   "source": [
    "## Popcorn Hack #2"
   ]
  },
  {
   "cell_type": "code",
   "execution_count": null,
   "metadata": {},
   "outputs": [],
   "source": [
    "number1 = 11\n",
    "number2 = 2\n",
    "number3 = number1 % number2\n",
    "number4 = number3 * number1 + 70\n",
    "#answer will be 81\n",
    "print(number4)"
   ]
  },
  {
   "cell_type": "markdown",
   "metadata": {},
   "source": [
    "## Popcorn Hack #3"
   ]
  },
  {
   "cell_type": "code",
   "execution_count": null,
   "metadata": {},
   "outputs": [],
   "source": [
    "numberl = [14, 18, 19, 23]\n",
    "\n",
    "for num in numberl:\n",
    "    remainder = num % 3\n",
    "    if remainder == 0:\n",
    "        print(num, \"is divisible by 3\")\n",
    "    else:\n",
    "        print(\"The remainder when\", num, \"is divided by 3 is\", remainder)"
   ]
  },
  {
   "cell_type": "markdown",
   "metadata": {},
   "source": [
    "## Homework Hack"
   ]
  },
  {
   "cell_type": "code",
   "execution_count": null,
   "metadata": {},
   "outputs": [],
   "source": [
    "#fibonacci\n",
    "def fibonacci(n):\n",
    "    if n <= 0:\n",
    "        return \"Input should be a positive integer\"\n",
    "    elif n == 1:\n",
    "        return 0\n",
    "    elif n == 2:\n",
    "        return 1\n",
    "    else:\n",
    "        a, b = 0, 1\n",
    "        for _ in range(n - 2):\n",
    "            a, b = b, a + b\n",
    "        return b\n",
    "\n",
    "number = int(input('enter an integer:'))\n",
    "print(fibonacci(number))"
   ]
  },
  {
   "cell_type": "code",
   "execution_count": null,
   "metadata": {},
   "outputs": [],
   "source": [
    "#calculating area of shapes\n",
    "import math\n",
    "\n",
    "def calculate_area():\n",
    "    shape = input(\"Which shape do you want to calculate the area for? (circle, square, rectangle): \").lower()\n",
    "    \n",
    "    if shape == \"circle\":\n",
    "        radius = float(input(\"Enter the radius of the circle: \"))\n",
    "        return f\"The area of the circle is: {math.pi * (radius ** 2)}\"\n",
    "    \n",
    "    elif shape == \"square\":\n",
    "        side = float(input(\"Enter the side length of the square: \"))\n",
    "        return f\"The area of the square is: {side ** 2}\"\n",
    "    \n",
    "    elif shape == \"rectangle\":\n",
    "        length = float(input(\"Enter the length of the rectangle: \"))\n",
    "        width = float(input(\"Enter the width of the rectangle: \"))\n",
    "        return f\"The area of the rectangle is: {length * width}\"\n",
    "    \n",
    "    else:\n",
    "        return \"Invalid shape for area calculation.\"\n",
    "print(calculate_area())"
   ]
  },
  {
   "cell_type": "code",
   "execution_count": null,
   "metadata": {},
   "outputs": [],
   "source": [
    "#calculating volume\n",
    "def calculate_volume():\n",
    "    shape = input(\"Which shape do you want to calculate the volume for? (rectangular prism, sphere, pyramid): \").lower()\n",
    "    \n",
    "    if shape == \"rectangular prism\":\n",
    "        base = float(input(\"Enter the base length of the rectangular prism: \"))\n",
    "        width = float(input(\"Enter the width of the rectangular prism: \"))\n",
    "        height = float(input(\"Enter the height of the rectangular prism: \"))\n",
    "        return f\"The volume of the rectangular prism is: {base * width * height}\"\n",
    "    \n",
    "    elif shape == \"sphere\":\n",
    "        radius = float(input(\"Enter the radius of the sphere: \"))\n",
    "        return f\"The volume of the sphere is: {(4/3) * math.pi * (radius ** 3)}\"\n",
    "    \n",
    "    elif shape == \"pyramid\":\n",
    "        base = float(input(\"Enter the base length of the pyramid: \"))\n",
    "        width = float(input(\"Enter the width of the pyramid: \"))\n",
    "        height = float(input(\"Enter the height of the pyramid: \"))\n",
    "        return f\"The volume of the pyramid is: {(1/3) * base * width * height}\"\n",
    "    \n",
    "    else:\n",
    "        return \"Invalid shape for volume calculation.\"\n",
    "\n",
    "print(calculate_volume())\n"
   ]
  },
  {
   "cell_type": "markdown",
   "metadata": {},
   "source": [
    "# 3.5"
   ]
  },
  {
   "cell_type": "markdown",
   "metadata": {},
   "source": [
    "## Popcorn Hack #1"
   ]
  },
  {
   "cell_type": "code",
   "execution_count": null,
   "metadata": {
    "vscode": {
     "languageId": "javascript"
    }
   },
   "outputs": [],
   "source": [
    "var first_variable = true;\n",
    "var second_variable = false;\n",
    "\n",
    "if (first_variable == true) {\n",
    "    console.log(\"The first variable is true\");\n",
    "} else if (first_variable == false) {\n",
    "    console.log(\"The first variable is false\")\n",
    "}\n",
    "\n",
    "if (first_variable == true && second_variable == false) {\n",
    "    \"The first variable is true and the second one is false\"\n",
    "}\n",
    "\n",
    "if (first_variable == true || second_variable == true) {\n",
    "    \"Either the first or the second variable is true\"\n",
    "}"
   ]
  },
  {
   "cell_type": "code",
   "execution_count": null,
   "metadata": {},
   "outputs": [],
   "source": [
    "first_variable = True\n",
    "second_variable = False\n",
    "\n",
    "if first_variable:\n",
    "    print(\"The first variable is true!\")\n",
    "else:\n",
    "    print(\"The first variable is false!\")\n",
    "\n",
    "if first_variable and not second_variable:\n",
    "    print(\"The first variable is true and the second one is false\")\n",
    "\n",
    "if first_variable or second_variable:\n",
    "    print(\"Either the first or the second variable is true\")    "
   ]
  },
  {
   "cell_type": "markdown",
   "metadata": {},
   "source": [
    "## Popcorn Hack #2"
   ]
  },
  {
   "cell_type": "code",
   "execution_count": null,
   "metadata": {},
   "outputs": [],
   "source": [
    "number = float(input('Enter a number'))\n",
    "if number > 10:\n",
    "    print(\"number is greater than ten!\")\n",
    "else:\n",
    "    print(\"number is not greater than ten!\")"
   ]
  },
  {
   "cell_type": "markdown",
   "metadata": {},
   "source": [
    "## Popcorn Hack #3"
   ]
  },
  {
   "cell_type": "code",
   "execution_count": null,
   "metadata": {},
   "outputs": [],
   "source": [
    "number = float(input('Enter a number'))\n",
    "if number >= 100 and number <= 999:\n",
    "    print(\"The number you entered is 3 digits\")\n",
    "else:\n",
    "    print(\"The number you entered is not three digits!\")"
   ]
  },
  {
   "cell_type": "markdown",
   "metadata": {},
   "source": [
    "## Homework Hack"
   ]
  },
  {
   "cell_type": "code",
   "execution_count": 26,
   "metadata": {},
   "outputs": [
    {
     "name": "stdout",
     "output_type": "stream",
     "text": [
      "A      B        Result\n",
      "False  False  True\n",
      "False  True  True\n",
      "True  False  True\n",
      "True  True  True\n"
     ]
    }
   ],
   "source": [
    "def de_morgan_law():\n",
    "    print(\"A      B        Result\")\n",
    "    values = [False, True]\n",
    "\n",
    "    for A in values:\n",
    "        for B in values:\n",
    "            result = (not (A and B)) == ((not A) or (not B))\n",
    "            print(f\"{A}  {B}  {result}\")\n",
    "\n",
    "# Example usage:\n",
    "de_morgan_law()\n"
   ]
  }
 ],
 "metadata": {
  "kernelspec": {
   "display_name": "Python 3",
   "language": "python",
   "name": "python3"
  },
  "language_info": {
   "codemirror_mode": {
    "name": "ipython",
    "version": 3
   },
   "file_extension": ".py",
   "mimetype": "text/x-python",
   "name": "python",
   "nbconvert_exporter": "python",
   "pygments_lexer": "ipython3",
   "version": "3.12.3"
  }
 },
 "nbformat": 4,
 "nbformat_minor": 2
}
